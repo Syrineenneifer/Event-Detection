{
  "cells": [
    {
      "cell_type": "code",
      "execution_count": 55,
      "metadata": {
        "id": "ER94N0mr0RTo"
      },
      "outputs": [],
      "source": [
        "import torch\n",
        "import numpy as np\n",
        "import json\n",
        "from torch.nn import LSTM\n",
        "from torch.utils.data import DataLoader, IterableDataset\n",
        "import torch.nn as nn\n",
        "import torch.nn.functional as F\n",
        "import torch.optim as optim\n",
        "import matplotlib.pyplot as plt\n",
        "import seaborn as sns\n",
        "from sklearn.metrics import f1_score, confusion_matrix\n",
        "import pickle\n",
        "import os\n",
        "from seqeval.scheme import IOB2\n",
        "from seqeval.metrics import accuracy_score, f1_score"
      ]
    },
    {
      "cell_type": "code",
      "execution_count": 56,
      "metadata": {
        "colab": {
          "base_uri": "https://localhost:8080/"
        },
        "id": "PXZixI5dldua",
        "outputId": "57a24496-5a21-4f45-fa73-6cd60b089a98"
      },
    {
      "cell_type": "code",
      "execution_count": 57,
      "metadata": {
        "id": "jxW9ORrU7VXz"
      },
      "outputs": [],
      "source": [
        "class TextDataset(torch.utils.data.Dataset):\n",
        "  def __init__(self, file):\n",
        "    self.tokens, self.labels = [], []\n",
        "    self.data = {}\n",
        "    with open(file) as f:\n",
        "      for line in f:\n",
        "        self.data = json.loads(line)\n",
        "        # Lower case the tokens \n",
        "        lower_toks = [item.lower() for item in self.data[\"tokens\"]]\n",
        "        self.tokens.append(lower_toks)\n",
        "        self.labels.append(self.data[\"labels\"])\n",
        "    \n",
        "  def __getitem__(self, idx):\n",
        "        return {'tokens': self.tokens[idx], 'labels': self.labels[idx]}\n",
        "\n",
        "  def __len__(self):\n",
        "        return len(self.data)\n",
        "\n",
        "  @staticmethod\n",
        "  def decode_output(outputs, label_vocab):\n",
        "        top_label_scores, top_label_indices = torch.max(outputs, -1) \n",
        "        list_of = list(zip(map(lambda x: x.item(), top_label_indices), map(lambda x: x.item(), top_label_scores)))\n",
        "        predictions = []   \n",
        "        for i in range(len(list_of)):\n",
        "          predictions.append(label_vocab[list_of[i][0]])\n",
        "        return predictions"
      ]
    },
    {
      "cell_type": "code",
      "execution_count": 58,
      "metadata": {
        "id": "UH97tvKf9OOp"
      },
      "outputs": [],
      "source": [
        "# Loading the train dataset  \n",
        "datapath_train_temp = os.path.abspath('Event-Detection/data/train.jsonl')\n",
        "datapath_train = datapath_train_temp.replace(\"Event-Detection/hw1/stud/\", \"\")\n",
        "train_dataset = TextDataset(datapath_train)"
      ]
    },
    {
      "cell_type": "code",
      "execution_count": 59,
      "metadata": {
        "id": "F-Il2aTYNNci"
      },
      "outputs": [],
      "source": [
        "# Loading the test dataset  \n",
        "datapath_test_temp = os.path.abspath('Event-Detection/data/test.jsonl')\n",
        "datapath_test = datapath_test_temp.replace(\"Event-Detection/hw1/stud/\", \"\")\n",
        "test_dataset = TextDataset(datapath_test)"
      ]
    },
    {
      "cell_type": "code",
      "execution_count": 60,
      "metadata": {
        "colab": {
          "base_uri": "https://localhost:8080/"
        },
        "id": "p7NDJMWK9hTT",
        "outputId": "27bb5e87-5b36-4c7b-9d48-94d8acc9f979"
      },
      "outputs": [],
      "source": [
        "train_sentences = []\n",
        "for i in range(20000):\n",
        "  train_sentences.append(train_dataset[i]['tokens'])\n",
        "vocab = list(dict.fromkeys(sum(train_sentences, [])))\n",
        "\n",
        "test_sentences = []\n",
        "for i in range(2000):\n",
        "  test_sentences.append(test_dataset[i]['tokens'])\n",
        "\n",
        "all_sentences = train_sentences + test_sentences"
      ]
    },
    {
      "cell_type": "code",
      "execution_count": 62,
      "metadata": {
        "colab": {
          "base_uri": "https://localhost:8080/"
        },
        "id": "QkFFJAcfNU3r",
        "outputId": "4baaec46-7176-4069-a741-30c73f4d3504"
      },
      "outputs": [],
      "source": [
        "# Downloading the glove zip file\n",
        "!wget http://nlp.stanford.edu/data/glove.6B.zip"
      ]
    },
    {
      "cell_type": "code",
      "execution_count": 63,
      "metadata": {
        "colab": {
          "base_uri": "https://localhost:8080/"
        },
        "id": "89MCRdp-NWbI",
        "outputId": "4f85e781-6062-4b79-d267-b097a078142a"
      },
      "outputs": [],
      "source": [
        "# Unziping it\n",
        "!unzip glove.6B.zip"
      ]
    },
    {
      "cell_type": "code",
      "execution_count": 64,
      "metadata": {
        "colab": {
          "base_uri": "https://localhost:8080/"
        },
        "id": "UWsdhAHqNZBR",
        "outputId": "86d4799a-217b-472b-c649-882e7467d3ee"
      },
      "outputs": [
        {
          "name": "stdout",
          "output_type": "stream",
          "text": [
            "Indexing word vectors.\n",
            "Found 400000 word vectors.\n"
          ]
        }
      ],
      "source": [
        "print('Indexing word vectors.')\n",
        "\n",
        "embeddings_index = {}\n",
        "f = open('glove.6B.100d.txt', encoding='utf-8')\n",
        "for line in f:\n",
        "    values = line.split()\n",
        "    word = values[0]\n",
        "    coefs = np.asarray(values[1:], dtype='float32')\n",
        "    embeddings_index[word] = coefs\n",
        "f.close()\n",
        "\n",
        "print('Found %s word vectors.' % len(embeddings_index))"
      ]
    },
    {
      "cell_type": "code",
      "execution_count": 65,
      "metadata": {
        "id": "ajHZ3ofRNbR_"
      },
      "outputs": [],
      "source": [
        "def find_unknown_words(words):  \n",
        "    unknown_words = []    \n",
        "    for word in words:\n",
        "        if not (word in embeddings_index):\n",
        "            unknown_words.append(word)\n",
        "    return words"
      ]
    },
    {
      "cell_type": "code",
      "execution_count": 66,
      "metadata": {
        "colab": {
          "base_uri": "https://localhost:8080/"
        },
        "id": "qX4iOWBPT_El",
        "outputId": "a08640fa-674e-4683-b4ab-d2408b51311e"
      },
      "outputs": [
        {
          "name": "stdout",
          "output_type": "stream",
          "text": [
            "1.0% of training words are unknown\n"
          ]
        }
      ],
      "source": [
        "unknown_train_words = find_unknown_words(vocab)\n",
        "print( f'{len(unknown_train_words)/len(vocab)}% of training words are unknown' )"
      ]
    },
    {
      "cell_type": "code",
      "execution_count": 67,
      "metadata": {
        "id": "T_fGOoe_NcxU"
      },
      "outputs": [],
      "source": [
        "def assign_index(sentences):\n",
        "  word_to_ix = {}\n",
        "  for sentence in sentences:\n",
        "    for token in sentence:\n",
        "      if token not in word_to_ix:\n",
        "          word_to_ix[token] = len(word_to_ix)\n",
        "  return word_to_ix\n",
        "  \n",
        "word_to_ix = assign_index(all_sentences)"
      ]
    },
    {
      "cell_type": "code",
      "execution_count": 68,
      "metadata": {
        "id": "klvW6AQFwXAO"
      },
      "outputs": [],
      "source": [
        "def prepare_sequence(seq, to_ix):\n",
        "    idxs = [to_ix[w] for w in seq]\n",
        "    return torch.tensor(idxs, dtype=torch.long)"
      ]
    },
    {
      "cell_type": "code",
      "execution_count": 69,
      "metadata": {
        "id": "S7jRyDBsjHi9"
      },
      "outputs": [],
      "source": [
        "def embd(sentence):\n",
        "  emb_sentence = []\n",
        "  for word in sentence :\n",
        "    if word in embeddings_index :\n",
        "      word = embeddings_index[word]\n",
        "      emb_sentence.append(word)\n",
        "    else :\n",
        "      # Assigning the same embedding of 'the' to unknown tokens\n",
        "      word = embeddings_index['the']\n",
        "      emb_sentence.append(word)\n",
        "  return emb_sentence"
      ]
    },
    {
      "cell_type": "code",
      "execution_count": 70,
      "metadata": {
        "id": "80GmIhwXlZeO"
      },
      "outputs": [],
      "source": [
        "class LSTM_ED(nn.Module):\n",
        "    def __init__(self, embedding_dim, hidden_dim, tagset_size):\n",
        "        super(LSTM_ED, self).__init__()\n",
        "        self.embedding_dim = embedding_dim\n",
        "        self.hidden_dim = hidden_dim\n",
        "        self.tagset_size = tagset_size\n",
        "        self.lstm = nn.LSTM(self.embedding_dim, self.hidden_dim, bidirectional=False, dropout=0)  \n",
        "        self.classifier = nn.Linear(self.hidden_dim, self.tagset_size)\n",
        "\n",
        "    def forward(self, sentence):\n",
        "        embeds = embd(sentence)\n",
        "        embeds_t = torch.tensor(np.array(embeds), dtype=torch.float32)\n",
        "        lstm_out, _ = self.lstm(embeds_t.view(len(sentence), 1, self.embedding_dim))\n",
        "        tag_space = self.classifier(lstm_out.view(len(sentence), -1))\n",
        "        return tag_space"
      ]
    },
    {
      "cell_type": "code",
      "execution_count": 71,
      "metadata": {
        "id": "YI-RYahXnMBZ"
      },
      "outputs": [],
      "source": [
        "labels = ['B-SENTIMENT', 'I-SENTIMENT',\n",
        "             'B-SCENARIO', 'I-SCENARIO',\n",
        "             'B-CHANGE', 'I-CHANGE',\n",
        "             'B-POSSESSION', 'I-POSSESSION',\n",
        "             'B-ACTION', 'I-ACTION',\n",
        "             'O']\n",
        "\n",
        "tag_to_ix = {0:\"B-SENTIMENT\", 1:\"I-SENTIMENT\",\n",
        "             2:\"B-SCENARIO\", 3:\"I-SCENARIO\",\n",
        "             4:\"B-CHANGE\", 5:\"I-CHANGE\", \n",
        "             6:\"B-POSSESSION\", 7:\"I-POSSESSION\",\n",
        "             8:\"B-ACTION\", 9:\"I-ACTION\",\n",
        "             10:\"O\"}\n",
        "\n",
        "inverse_tag_to_ix = {\"B-SENTIMENT\":0, \"I-SENTIMENT\":1,\n",
        "                      \"B-SCENARIO\":2, \"I-SCENARIO\":3,\n",
        "                      \"B-CHANGE\":4, \"I-CHANGE\":5,\n",
        "                      \"B-POSSESSION\":6, \"I-POSSESSION\":7,\n",
        "                      \"B-ACTION\":8, \"I-ACTION\":9,\n",
        "                      \"O\":10}\n",
        "\n",
        "nb_tags = 11"
      ]
    },
    {
      "cell_type": "code",
      "execution_count": 95,
      "metadata": {
        "id": "71_33PcR4m-_"
      },
      "outputs": [],
      "source": [
        "lstm_model = LSTM_ED(100, 300, nb_tags)"
      ]
    },
    {
      "cell_type": "code",
      "execution_count": 96,
      "metadata": {
        "id": "GIOt6VECb5-e"
      },
      "outputs": [],
      "source": [
        "class Trainer():\n",
        "  def __init__(self, model):\n",
        "    self.model = model\n",
        "    self.weights = torch.tensor([0.095, 0.095, 0.095, 0.095, 0.095, 0.095, 0.095, 0.095, 0.095, 0.095, 0.05])\n",
        "    self.loss_fct = nn.CrossEntropyLoss(weight=self.weights)\n",
        "    self.optimizer = optim.Adam(lstm_model.parameters(), lr=0.1)\n",
        "\n",
        "  def train(self, train_dataset, epochs):\n",
        "      batch_counter = 0\n",
        "      batch_size = 1000\n",
        "      train_losses = []\n",
        "      for epoch in range(epochs):\n",
        "        \n",
        "        print(\"\")\n",
        "        print(\"epoch\", epoch)\n",
        "\n",
        "        self.model.train()\n",
        "        epoch_loss = 0\n",
        "        for i in range(batch_counter, batch_size+batch_counter):\n",
        "          self.optimizer.zero_grad()\n",
        "          input = train_dataset[i]['tokens']  \n",
        "          logit = self.model(input)\n",
        "          encoded_labels = prepare_sequence(train_dataset[i]['labels'], inverse_tag_to_ix)          \n",
        "          loss = self.loss_fct(logit, encoded_labels)          \n",
        "          epoch_loss += loss\n",
        "          loss.backward()\n",
        "          self.optimizer.step()\n",
        "          \n",
        "        print(epoch_loss/batch_size)\n",
        "        \n",
        "        train_losses.append(epoch_loss/batch_size)\n",
        "        batch_counter += 1000\n",
        "        if epoch % 20 == 0:\n",
        "          batch_counter = 0\n",
        "      return train_losses\n",
        "\n",
        "  def evaluate(self, test_dataset):\n",
        "        test_losses = []\n",
        "        self.model.eval()\n",
        "        with torch.no_grad():\n",
        "            for i in range(2000):\n",
        "                input = test_dataset[i]['tokens']\n",
        "                logit = self.model(input) \n",
        "                encoded_labels = prepare_sequence(test_dataset[i]['labels'], inverse_tag_to_ix)            \n",
        "                sample_loss = self.loss_fct(logit, encoded_labels)\n",
        "                test_losses.append(sample_loss)\n",
        "        return test_losses"
      ]
    },
    {
      "cell_type": "code",
      "execution_count": 97,
      "metadata": {
        "id": "VtBnNnz9ef0E"
      },
      "outputs": [],
      "source": [
        "trainer = Trainer(\n",
        "    model = lstm_model\n",
        ")"
      ]
    },
    {
      "cell_type": "code",
      "execution_count": 99,
      "metadata": {
        "id": "7qeIvrcleuS9"
      },
      "outputs": [
        {
          "name": "stdout",
          "output_type": "stream",
          "text": [
            "\n",
            "epoch 0\n",
            "tensor(0.7707, grad_fn=<DivBackward0>)\n",
            "\n",
            "epoch 1\n",
            "tensor(0.7758, grad_fn=<DivBackward0>)\n",
            "\n",
            "epoch 2\n",
            "tensor(0.7692, grad_fn=<DivBackward0>)\n",
            "\n",
            "epoch 3\n",
            "tensor(0.7880, grad_fn=<DivBackward0>)\n",
            "\n",
            "epoch 4\n",
            "tensor(0.7466, grad_fn=<DivBackward0>)\n",
            "\n",
            "epoch 5\n",
            "tensor(0.7588, grad_fn=<DivBackward0>)\n",
            "\n",
            "epoch 6\n",
            "tensor(0.7394, grad_fn=<DivBackward0>)\n",
            "\n",
            "epoch 7\n",
            "tensor(0.7245, grad_fn=<DivBackward0>)\n",
            "\n",
            "epoch 8\n",
            "tensor(0.6789, grad_fn=<DivBackward0>)\n",
            "\n",
            "epoch 9\n",
            "tensor(0.6839, grad_fn=<DivBackward0>)\n",
            "\n",
            "epoch 10\n",
            "tensor(0.6792, grad_fn=<DivBackward0>)\n",
            "\n",
            "epoch 11\n",
            "tensor(0.6830, grad_fn=<DivBackward0>)\n",
            "\n",
            "epoch 12\n",
            "tensor(0.7255, grad_fn=<DivBackward0>)\n",
            "\n",
            "epoch 13\n",
            "tensor(0.6507, grad_fn=<DivBackward0>)\n",
            "\n",
            "epoch 14\n",
            "tensor(0.6113, grad_fn=<DivBackward0>)\n",
            "\n",
            "epoch 15\n",
            "tensor(0.6335, grad_fn=<DivBackward0>)\n",
            "\n",
            "epoch 16\n",
            "tensor(0.6080, grad_fn=<DivBackward0>)\n",
            "\n",
            "epoch 17\n",
            "tensor(0.6475, grad_fn=<DivBackward0>)\n",
            "\n",
            "epoch 18\n",
            "tensor(0.6127, grad_fn=<DivBackward0>)\n",
            "\n",
            "epoch 19\n",
            "tensor(0.6488, grad_fn=<DivBackward0>)\n",
            "\n",
            "epoch 20\n",
            "tensor(0.6460, grad_fn=<DivBackward0>)\n",
            "\n",
            "epoch 21\n",
            "tensor(0.6320, grad_fn=<DivBackward0>)\n",
            "\n",
            "epoch 22\n",
            "tensor(0.5766, grad_fn=<DivBackward0>)\n",
            "\n",
            "epoch 23\n",
            "tensor(0.5908, grad_fn=<DivBackward0>)\n",
            "\n",
            "epoch 24\n",
            "tensor(0.5934, grad_fn=<DivBackward0>)\n",
            "\n",
            "epoch 25\n",
            "tensor(0.5901, grad_fn=<DivBackward0>)\n",
            "\n",
            "epoch 26\n",
            "tensor(0.6143, grad_fn=<DivBackward0>)\n",
            "\n",
            "epoch 27\n",
            "tensor(0.6109, grad_fn=<DivBackward0>)\n",
            "\n",
            "epoch 28\n",
            "tensor(0.6046, grad_fn=<DivBackward0>)\n",
            "\n",
            "epoch 29\n",
            "tensor(0.6100, grad_fn=<DivBackward0>)\n",
            "\n",
            "epoch 30\n",
            "tensor(0.5754, grad_fn=<DivBackward0>)\n",
            "\n",
            "epoch 31\n",
            "tensor(0.6166, grad_fn=<DivBackward0>)\n",
            "\n",
            "epoch 32\n",
            "tensor(0.6373, grad_fn=<DivBackward0>)\n",
            "\n",
            "epoch 33\n",
            "tensor(0.6070, grad_fn=<DivBackward0>)\n",
            "\n",
            "epoch 34\n",
            "tensor(0.5824, grad_fn=<DivBackward0>)\n",
            "\n",
            "epoch 35\n",
            "tensor(0.6072, grad_fn=<DivBackward0>)\n",
            "\n",
            "epoch 36\n",
            "tensor(0.6211, grad_fn=<DivBackward0>)\n",
            "\n",
            "epoch 37\n",
            "tensor(0.6026, grad_fn=<DivBackward0>)\n",
            "\n",
            "epoch 38\n",
            "tensor(0.5718, grad_fn=<DivBackward0>)\n",
            "\n",
            "epoch 39\n",
            "tensor(0.5895, grad_fn=<DivBackward0>)\n",
            "\n",
            "epoch 40\n",
            "tensor(0.5923, grad_fn=<DivBackward0>)\n",
            "\n",
            "epoch 41\n",
            "tensor(0.5894, grad_fn=<DivBackward0>)\n",
            "\n",
            "epoch 42\n",
            "tensor(0.5661, grad_fn=<DivBackward0>)\n",
            "\n",
            "epoch 43\n",
            "tensor(0.5941, grad_fn=<DivBackward0>)\n",
            "\n",
            "epoch 44\n",
            "tensor(0.5588, grad_fn=<DivBackward0>)\n",
            "\n",
            "epoch 45\n",
            "tensor(0.5665, grad_fn=<DivBackward0>)\n",
            "\n",
            "epoch 46\n",
            "tensor(0.5667, grad_fn=<DivBackward0>)\n",
            "\n",
            "epoch 47\n",
            "tensor(0.5988, grad_fn=<DivBackward0>)\n",
            "\n",
            "epoch 48\n",
            "tensor(0.5876, grad_fn=<DivBackward0>)\n",
            "\n",
            "epoch 49\n",
            "tensor(0.5981, grad_fn=<DivBackward0>)\n",
            "\n",
            "epoch 50\n",
            "tensor(0.5570, grad_fn=<DivBackward0>)\n",
            "\n",
            "epoch 51\n",
            "tensor(0.5973, grad_fn=<DivBackward0>)\n",
            "\n",
            "epoch 52\n",
            "tensor(0.6058, grad_fn=<DivBackward0>)\n",
            "\n",
            "epoch 53\n",
            "tensor(0.5744, grad_fn=<DivBackward0>)\n",
            "\n",
            "epoch 54\n",
            "tensor(0.5538, grad_fn=<DivBackward0>)\n",
            "\n",
            "epoch 55\n",
            "tensor(0.6027, grad_fn=<DivBackward0>)\n",
            "\n",
            "epoch 56\n",
            "tensor(0.5649, grad_fn=<DivBackward0>)\n",
            "\n",
            "epoch 57\n",
            "tensor(0.6387, grad_fn=<DivBackward0>)\n",
            "\n",
            "epoch 58\n",
            "tensor(0.5826, grad_fn=<DivBackward0>)\n",
            "\n",
            "epoch 59\n",
            "tensor(0.5677, grad_fn=<DivBackward0>)\n"
          ]
        }
      ],
      "source": [
        "train_losses = trainer.train(train_dataset, 60)"
      ]
    },
    {
      "cell_type": "code",
      "execution_count": 100,
      "metadata": {
        "colab": {
          "base_uri": "https://localhost:8080/"
        },
        "id": "zfDSS9O2TZw_",
        "outputId": "eaca0521-5911-44bd-bf92-e7a665aa9475"
      },
      "outputs": [
        {
          "name": "stdout",
          "output_type": "stream",
          "text": [
            "0.627978586157163\n"
          ]
        }
      ],
      "source": [
        "av_tr_loss = 0\n",
        "for i in range(len(train_losses)):\n",
        "  av_tr_loss += train_losses[i].item()\n",
        "\n",
        "print(av_tr_loss/len(train_losses))"
      ]
    },
    {
      "cell_type": "code",
      "execution_count": 108,
      "metadata": {
        "id": "AsaMKUKtzCL6"
      },
      "outputs": [],
      "source": [
        "test_losses = trainer.evaluate(test_dataset)"
      ]
    },
    {
      "cell_type": "code",
      "execution_count": 112,
      "metadata": {
        "colab": {
          "base_uri": "https://localhost:8080/"
        },
        "id": "U1s2BE1jRZ-j",
        "outputId": "cecff808-3af6-4d3e-c3e3-5225bb6d5834"
      },
      "outputs": [
        {
          "name": "stdout",
          "output_type": "stream",
          "text": [
            "0.5216010042469424\n"
          ]
        }
      ],
      "source": [
        "av_test_loss = 0\n",
        "for i in range(2000):\n",
        "  av_test_loss += test_losses[i].item()\n",
        "\n",
        "print(av_test_loss/2000)"
      ]
    },
    {
      "cell_type": "code",
      "execution_count": 107,
      "metadata": {
        "colab": {
          "base_uri": "https://localhost:8080/",
          "height": 448
        },
        "id": "8ZREqfMCKxhN",
        "outputId": "54d40048-22c0-4d4b-e5b6-9a555dd8acdc"
      },
      "outputs": [
        {
          "data": {
            "text/plain": [
              "[<matplotlib.lines.Line2D at 0x7fc4da5194c0>]"
            ]
          },
          "execution_count": 107,
          "metadata": {},
          "output_type": "execute_result"
        },
        {
          "data": {
            "image/png": "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",
            "text/plain": [
              "<Figure size 432x288 with 1 Axes>"
            ]
          },
          "metadata": {
            "needs_background": "light"
          },
          "output_type": "display_data"
        }
      ],
      "source": [
        "epoch_count = range(0, 60)\n",
        "tr_losses = [x.detach().numpy() for x in train_losses]\n",
        "plt.plot(epoch_count, tr_losses)"
      ]
    },
    {
      "cell_type": "code",
      "execution_count": 104,
      "metadata": {
        "colab": {
          "base_uri": "https://localhost:8080/"
        },
        "id": "KdJbpgydCY7Z",
        "outputId": "cf3729eb-10de-4580-cfde-4024e6dec12c"
      },
      "outputs": [
        {
          "name": "stdout",
          "output_type": "stream",
          "text": [
            "Percentage of 'O' labels:  90.3573134706691\n"
          ]
        }
      ],
      "source": [
        "# Unbalanced dataset analysis \n",
        "counter_labels = 0\n",
        "counter_O = 0\n",
        "\n",
        "for i in range(20000):\n",
        "  encoded_labels = prepare_sequence(train_dataset[i]['labels'], inverse_tag_to_ix)\n",
        "  for j in range(len(encoded_labels)):\n",
        "    counter_labels += 1\n",
        "    if encoded_labels[j] == 10: # 10 corresponding to 'O'\n",
        "      counter_O += 1\n",
        "\n",
        "print(\"Percentage of 'O' labels: \", (counter_O/counter_labels)*100)\t\t"
      ]
    },
    {
      "cell_type": "markdown",
      "metadata": {
        "id": "KuzgglUHM_9S"
      },
      "source": [
        "PERFORMANCE"
      ]
    },
    {
      "cell_type": "code",
      "execution_count": 105,
      "metadata": {
        "id": "lfoJJ6rsN5FT"
      },
      "outputs": [],
      "source": [
        "def F1(model, l_dataset):\n",
        "    all_predictions = []\n",
        "    all_labels = []\n",
        "    for i in range(2000):\n",
        "        indexed_in = l_dataset[i]['tokens']\n",
        "        indexed_labels = l_dataset[i]['labels']\n",
        "        logit = model(indexed_in)\n",
        "        predictions = l_dataset.decode_output(logit, tag_to_ix)\n",
        "        #all_predictions += predictions\n",
        "        #all_labels += indexed_labels\n",
        "        all_predictions.append(predictions)\n",
        "        all_labels.append(indexed_labels)\n",
        "    \n",
        "    macro_f1 = f1_score(all_labels, all_predictions, average='macro', mode=\"strict\", scheme=IOB2, zero_division=0)\n",
        "    weighted_f1 = f1_score(all_labels, all_predictions, average='weighted', mode=\"strict\", scheme=IOB2)\n",
        "    accuracy = accuracy_score(all_labels, all_predictions)\n",
        "    return macro_f1, weighted_f1, accuracy"
      ]
    },
    {
      "cell_type": "code",
      "execution_count": 111,
      "metadata": {
        "colab": {
          "base_uri": "https://localhost:8080/",
          "height": 178
        },
        "id": "6KvLBRbdh58W",
        "outputId": "7980e6f6-888f-4ed8-fc11-a057f2caf05c"
      },
      "outputs": [
        {
          "name": "stdout",
          "output_type": "stream",
          "text": [
            "Macro_F1:  0.3278940100202021\n",
            "Weighted_F1:  0.3803454888602671\n",
            "Accuracy:  0.8989172467130704\n"
          ]
        }
      ],
      "source": [
        "macro, weighted, acc = F1(lstm_model, test_dataset)\n",
        "\n",
        "print(\"Macro_F1: \", macro)\n",
        "print(\"Weighted_F1: \", weighted)\n",
        "print(\"Accuracy: \", acc)"
      ]
    },
    {
      "cell_type": "markdown",
      "metadata": {
        "id": "1XEMKXWvKndX"
      },
      "source": [
        "Confusion matrix"
      ]
    },
    {
      "cell_type": "code",
      "execution_count": 113,
      "metadata": {
        "id": "1XpXYJ4ZGH_b"
      },
      "outputs": [],
      "source": [
        "def confusion_mat(model, l_dataset, l_label_vocab):\n",
        "    all_predictions = []\n",
        "    all_labels = []\n",
        "    for i in range(2000):\n",
        "        indexed_in = l_dataset[i]['tokens']\n",
        "        indexed_labels = l_dataset[i]['labels'] \n",
        "        logit = model(indexed_in)\n",
        "        predictions = l_dataset.decode_output(logit, tag_to_ix)\n",
        "        all_predictions += predictions\n",
        "        all_labels += indexed_labels\n",
        "  \n",
        "    cm = confusion_matrix(all_labels, all_predictions, labels=labels)\n",
        "\n",
        "    plt.figure(figsize=(10,10))\n",
        "    sns.heatmap(cm, annot=True)\n",
        "    plt.title('Confusion Matrix')\n",
        "    plt.ylabel('Actual Values')\n",
        "    plt.xlabel('Predicted Values')\n",
        "    plt.show()"
      ]
    },
    {
      "cell_type": "code",
      "execution_count": 114,
      "metadata": {
        "colab": {
          "base_uri": "https://localhost:8080/",
          "height": 961
        },
        "id": "ED8_wLrzhAi3",
        "outputId": "6d8c72c2-b16e-426c-f443-46b592a4c666"
      },
      "outputs": [
        {
          "data": {
            "image/png": "iVBORw0KGgoAAAANSUhEUgAAAkkAAAJcCAYAAADtmzAcAAAABHNCSVQICAgIfAhkiAAAAAlwSFlzAAALEgAACxIB0t1+/AAAADh0RVh0U29mdHdhcmUAbWF0cGxvdGxpYiB2ZXJzaW9uMy4yLjIsIGh0dHA6Ly9tYXRwbG90bGliLm9yZy+WH4yJAAAgAElEQVR4nOzdd3xUVf7/8ddnkiAdEUEgQVCxrA1YaSpYQAGVpgIigq6i7Nfe1rai6P622LCuDZSuVAvSBBRdjEtJhCBCUEBcSYh0QcACyfn9MTcxgckkwpQb5/18PObBzL1z733fw5STzz33jjnnEBEREZGSAvEOICIiIuJH6iSJiIiIhKBOkoiIiEgI6iSJiIiIhKBOkoiIiEgI6iSJiIiIhKBOkkgFYWZVzGyame0ws8mHsJ6rzGxOJLPFg5nNMrNr4p1DRH6/1EkSiTAz62dmmWa2y8zyvC/zdhFYdS/gKKCOc673wa7EOfeGc65TBPKUYGbnmZkzs7f3m97Mm/5xOdfziJmNK+t5zrmLnHOjDzKuiEiZ1EkSiSAzuwt4FvgnwQ7N0cBLQI8IrL4x8JVzbl8E1hUtm4GzzKxOsWnXAF9FagMWpM8uEYk6fdCIRIiZ1QL+BtzsnHvbObfbObfXOTfNOXeP95zDzOxZM9vg3Z41s8O8eeeZWY6Z3W1mm7wq1LXevEeBh4ErvArVwP0rLmbWxKvYJHuP/2RmX5vZD2a2zsyuKjY9vdhyZ5lZhncYL8PMzio272Mz+39m9qm3njlmdmSYZvgFeBfo6y2fBPQB3tivrZ4zs/VmttPMPjOz9t70LsBfi+3nsmI5/mFmnwJ7gGO9add78182synF1v+4mX1oZlbu/0ARkf2okyQSOWcClYF3wjznQaAt0BxoBrQGBhebXx+oBaQCA4EXzay2c24IwerUROdcdefc6+GCmFk14HngIudcDeAsICvE844AZnjPrQM8DczYrxLUD7gWqAdUAv4SbtvAGOBq735nYAWwYb/nZBBsgyOAN4HJZlbZOff+fvvZrNgyA4BBQA3gf/ut727gdK8D2J5g213j9LtLInII1EkSiZw6wJYyDoddBfzNObfJObcZeJTgl3+hvd78vc65mcAu4MSDzFMAnGpmVZxzec65FSGecwmw2jk31jm3zzk3HlgFdCv2nJHOua+ccz8Ckwh2bkrlnPsvcISZnUiwszQmxHPGOee2etscChxG2fs5yjm3wltm737r2wP0J9jJGwfc6pzLKWN9IiJhqZMkEjlbgSMLD3eVoiElqyD/86YVrWO/TtYeoPpvDeKc2w1cAfwfkGdmM8zspHLkKcyUWuzxdweRZyxwC3A+ISpr3iHFbO8Q3/cEq2fhDuMBrA830zm3GPgaMIKdORGRQ6JOkkjkLAB+AnqGec4GggOwCx3NgYeiyms3ULXY4/rFZzrnZjvnLgQaEKwODS9HnsJMuQeZqdBY4CZgplflKeIdDruP4Fil2s65w4EdBDs3AKUdIgt76MzMbiZYkdoA3Hvw0UVEgtRJEokQ59wOgoOrXzSznmZW1cxSzOwiM3vCe9p4YLCZ1fUGQD9M8PDQwcgCzjGzo71B4w8UzjCzo8ysuzc26WeCh+3yQ6xjJnCCd9mCZDO7AjgZmH6QmQBwzq0DziU4Bmt/NYB9BM+ESzazh4GaxeZvBJr8ljPYzOwE4O8ED7kNAO41s7CHBUVEyqJOkkgEOeeeBu4iOBh7M8FDRLcQPOMLgl/kmcDnwHJgiTftYLY1F5joreszSnZsAgQHM28AthHssNwUYh1bga7ec7cSrMB0dc5tOZhM+6073TkXqko2G5hF8LIA/yNYfSt+KK3wQplbzWxJWdvxDm+OAx53zi1zzq0meIbc2MIzB0VEDobp5A8RERGRA6mSJCIiIhKCOkkiIiIiIaiTJCIiIhKCOkkiIiIiIYS76F1cJVdK1YhyERFJKPt+yY3p7w3u3fJ1zL5rU448tsL9lqIqSSIiIiIhqJMkIiIiEoJvD7eJiIhIlBWEuhC/FFIlSURERCQEVZJEREQSlSuIdwJfUyVJREREJARVkkRERBJVgSpJ4aiSJCIiIhKCKkkiIiIJymlMUliqJImIiIiEoEqSiIhIotKYpLBUSRIREREJQZUkERGRRKUxSWGpkiQiIiISgjpJIiIiIiHocJuIiEii0g/chqVKkoiIiEgIqiSJiIgkKg3cDkuVJBEREZEQVEkSERFJVLqYZFi/y0rSYYcdxoJPp/NZ5lyWZc1jyMN3A3D55V1ZljWPX35azxl/PD3OKUvq3Ok8Vnwxn1Ur07n3npvjHecAw4cNZUPOMrKWfhjvKKXyWxumpTXkgzmTWf75xyzLmsettwwE4OGH7uJ/6zLJzJhDZsYcLurSIc5Jf+W3NgxlzVcLWbrkAzIz5rBwwcx4xzmAH9vw9ttuYFnWPLKWfsi4sS9y2GGH0azZKXz6ybSidmzVsnm8YxaJVhuW9Tl2913/V/S+zFr6IT//+C21ax9+SNusVKkSb77xMqtWpvPf9Gk0bpwGQLNmp5A+/z2WZc1jyWdz6d27+yFtR6LDnHPxzhBScqXUQwpWrVpVdu/eQ3JyMvM/foc77xrCjp07KShwvPziY9x73//jsyWfRyruIQkEAmSv+IQuF19JTk4eCxfMpP+Am8jOXh3vaEXat2vDrl27GTnyOZq36BjvOAfwYxvWr1+PBvXrsTTrC6pXr8biRe9zea/r6N2rG7t27ebpZ16NW7ZQ/NiGoaz5aiFtzryIrVu3xzvKAfzYhg0b1uc/H73Dac3O56effmL8m68wa9Y8ruzbk+eeH877sz/ioi4d+MvdN9Lxwt5xy1komm34Wz7Hul5yIbffdgMXdu5TrnU3bpzGiNeeOaAN/+/P13DaaX/g5lvup0+f7vTscRH9rrqR448/Fucca9aso0GDo1i8cBannn4eWzdn20Hv4EH4ee3CmHUCDjuubUz3LRKiVkkys5PM7D4ze97MnvPu/yFa29vf7t17AEhJSSY5JQXnHKtWreGrr9bGKkK5tW7VgrVrv2Hdum/Zu3cvkyZNpXu3zvGOVcIn6YvYtv37eMcolR/b8LvvNrE06wsAdu3azapVq0ltWD+umcLxYxtWNH5tw+TkZKpUqUxSUhJVq1QhL+87nHPUqFkDgJq1arAhb2OcUwZFsw1/y+fYFVf0YMLEd4se9+t3GQs+nU5mxhxeevFxAoHyfX1279aJsWMnA/DWWzPocH47AFav/po1a9YBkJe3kU2bt1K3bp3fsjsSA1HpJJnZfcAEwIDFQIZ3f7yZ3R+Nbe4vEAiQmTGHvNzP+fDD+SzOWBqLzR6Uhqn1WZ+zoehxTm4eDX38ZepHfm/Dxo3TaN7sVBYtDr4Ob7rxWpZ8Npfhw4Zy+OG14pwuyO9tWMg5x6yZ41m0cBbXD7wq3nFK8GMbbtjwHU8/8wrr1i4m59ul7Ni5k7kfzOeuvwzh8X8NZt3aDJ547CEeHPyvuOYs5Ic2rFKlMp07ncfb7wQP5550UlP69O5O+3N70rJVJ/Lz8+nX77Jyrav4/uTn57Njx07q1Kld4jmtWjanUqUU1q79JqL7US4FBbG7VUDRGrg9EDjFObe3+EQzexpYATwWaiEzGwQMArCkWgQC1Q46QEFBAS1bdaJWrZq8Nfl1TjnlRFas+PKg1xdNZgdWIP16GNSv/NyG1apVZdLE4dz1lyH88MMuXnl1DH//x7M45/jbo/fy5BMPc8Ogu+Md09dtWNw55/UkL28jdevW4f1ZE/jyyzV8kr4o3rEAf7bh4YfXonu3zjQ9oS3ff7+TiRNepV+/y2jVsjl33/MI77wzk169ujH81aF0vqhvXLOCP9qwa9dO/HdBJtu9qlOH89vxxxanFY2Bq1KlMps3bwFgyuTXaNLkaCpVSuHoRqlkZswB4IUXXmP0mEml7M+v9+vXr8eoUc9z3XV3xP21IgeKViepAGgI/G+/6Q28eSE554YBw+DQxyQV2rFjJ/+Z/9/gQECfdpJyc/JolNaw6HFaagPyfFL6rij82obJyclMnjic8ePf4d13ZwGwadOWovmvvf4GU98dHa94Jfi1DfdXmGnz5q1MnTqLVq2a+6aT5Mc27NixPeu++ZYtW7YB8M67szizbUv6XXkpd971MABTpkxj2CtPxjNmET+04RV9upc41GZmjB03mQcHH/j3fa/e1wOlj0kq3J/c3DySkpKoVasm27YFx9PVqFGd96aO4eEhT7Bo8ZIo7lEYuk5SWNEak3QH8KGZzTKzYd7tfeBD4PYobbPIkUceQa1aNQGoXLkyHTu058sv/TcWqVBGZhZNmx5DkyaNSElJoU+fHkybPifesSoUv7bh8GFDyV61hmefG1Y0rX79ekX3e/a4yDedd7+2YXFVq1ahevVqRfcvvOBc37Qf+LMN13+bS5s2f6RKlcpAsCqyatVqNuRt5NxzziyattobHxNv8W7DmjVrcE77trz33uyiafM+SueyS7sWjRmqXftwjj46tVzrmzZ9DgMGBDtOl19+CR99/CkAKSkpvDX5dcaNm8Jbb02P8F5IpESlkuSce9/MTgBaA6kExyPlABnOuaj/UEyDBkcx4vVnSUoKEAgEmDJlGjNmfkCPHl147pm/U7fuEbw3dQzLlq3g4q7xH9OQn5/P7XcMZuaMN0kKBBg1eiIrV34V71gljBv7IueecyZHHnkE33ydyaN/e4qRoybEO1YRP7bh2We1YkD/Xny+fGVRCf6hhx7jiit60qzZyTjn+N//crjxpvvimrOQH9twf0cdVZcpk18HIDk5iQkT3mX2nI/jG6oYP7bh4oylvP32DDIWz2bfvn1kZa1g+GtvkJX1BU8//TeSk5P5+aefuPHGe+Oas1A02zDU51hKSgoAw4aPBYJ/uMz9YD579vxYtFx29moefuQJZs0cTyBg7N27j9tue5Bvv80tc5sjRk5g9KjnWbUyne3bv6df/5sA6N27G+3bt+GIOrW5+urgGXQDr78zIvv5m+i328L63V4CQEREpKLZ90tubC8BsOo/sbsEwEnnVrhLAOiK2yIiIolKY5LC+l1ecVtERETkUKmTJCIiIhKCDreJiIgkqgp6kcdYUSVJREREJARVkkRERBKVBm6HpUqSiIiISAiqJImIiCQqjUkKS5UkERERkRBUSRIREUlQMfilsApNlSQRERGREFRJEhERSVQ6uy0sVZJEREREQlAlSUREJFHp7LawVEkSERERCUGVJBERkUSlMUlhqZIkIiIiEoIqSSIiIomqQNdJCkeVJBEREZEQ1EkSERERCUGH20RERBKVBm6HpUqSiIiISAiqJImIiCQqXUwyLFWSRERExBfMLMnMlprZdO/xEWY218xWe//WLvbcB8xsjZl9aWadi00/w8yWe/OeNzPzph9mZhO96YvMrElZedRJEhERSVSuIHa38rkdyC72+H7gQ+fc8cCH3mPM7GSgL3AK0AV4ycySvGVeBgYBx3u3Lt70gcB251xT4Bng8bLCqJMkIiIicWdmacAlwGvFJvcARnv3RwM9i02f4Jz72Tm3DlgDtDazBkBN59wC55wDxuy3TOG6pgAdC6tMpdGYJBERkUQVwzFJZjaIYIWn0DDn3LBij58F7gVqFJt2lHMuD8A5l2dm9bzpqcDCYs/L8abt9e7vP71wmfXeuvaZ2Q6gDrCltMzqJImIiEjUeR2iYaHmmVlXYJNz7jMzO68cqwtVAXJhpodbplTqJImIiCQq/5zddjbQ3cwuBioDNc1sHLDRzBp4VaQGwCbv+TlAo2LLpwEbvOlpIaYXXybHzJKBWsC2cKE0JklERETiyjn3gHMuzTnXhOCA7HnOuf7Ae8A13tOuAaZ6998D+npnrB1DcID2Yu/Q3A9m1tYbb3T1fssUrquXtw1VkkRERORAzvn+B24fAyaZ2UDgW6A3gHNuhZlNAlYC+4Cb3a87cyMwCqgCzPJuAK8DY81sDcEKUt+yNm5ldKLiJrlSqj+DiYiIRMm+X3LDnm0VaT/OHxWz79oq5/wppvsWCaokiYiIJCr/jEnyJY1JEhEREQlBlSQREZFEVf4rYSckVZJEREREQlAnSURERCQEHW4TERFJVBq4HZYqSSIiIiIhqJIkIiKSqDRwO6yEqCR17nQeK76Yz6qV6dx7z83xjhOS3zP6PR/4P6Pf84H/M/o9HyhjJPg9X1paQz6YM5nln3/Msqx53HrLwHhHkij53V9xOxAIkL3iE7pcfCU5OXksXDCT/gNuIjt7dSRWHxF+z+j3fOD/jH7PB/7P6Pd8oIyR4Pd8APXr16NB/XoszfqC6tWrsXjR+1ze67qIZIz5FbfnvBS7K253uqnCXXH7d19Jat2qBWvXfsO6dd+yd+9eJk2aSvduneMdqwS/Z/R7PvB/Rr/nA/9n9Hs+UMZI8Hs+gO++28TSrC8A2LVrN6tWrSa1Yf04p5Jo+N13khqm1md9zoaixzm5eTT02YvZ7xn9ng/8n9Hv+cD/Gf2eD5QxEvyeb3+NG6fRvNmpLFq8NN5RDo4riN2tAop5J8nMrg0zb5CZZZpZZkHB7kht74BpfjvE6PeMfs8H/s/o93zg/4x+zwfKGAl+z1dctWpVmTRxOHf9ZQg//LAr3nEkCuJRSXq0tBnOuWHOuZbOuZaBQLWIbCw3J49GaQ2LHqelNiAvb2NE1h0pfs/o93zg/4x+zwf+z+j3fKCMkeD3fIWSk5OZPHE448e/w7vvzop3nINXUBC7WwUUlU6SmX1eym05cFQ0tlmajMwsmjY9hiZNGpGSkkKfPj2YNn1OLCOUye8Z/Z4P/J/R7/nA/xn9ng+UMRL8nq/Q8GFDyV61hmefGxbvKBJF0bpO0lFAZ2D7ftMN+G+UthlSfn4+t98xmJkz3iQpEGDU6ImsXPlVLCOUye8Z/Z4P/J/R7/nA/xn9ng+UMRL8ng/g7LNaMaB/Lz5fvpLMjGAH7qGHHmPW+/PinOwgVNAKT6xE5RIAZvY6MNI5lx5i3pvOuX5lrSNSlwAQERGpKGJ+CYAZz8buEgCX3FHhLgEQlUqSc67UK2uVp4MkIiIiMVBBzzqLld/9JQBEREREDoZ+u01ERCRRaUxSWKokiYiIiISgTpKIiIhICDrcJiIikqg0cDssVZJEREREQlAlSUREJFFp4HZYqiSJiIiIhKBKkoiISKLSmKSwVEkSERERCUGVJBERkUSlMUlhqZIkIiIiEoIqSSIiIolKlaSwVEkSERERCUGVJBERkUTlXLwT+JoqSSIiIiIhqJIkIiKSqDQmKSxVkkRERERCUCVJREQkUamSFJY6Sb9jFu8AZdBwQRGJJb9/Jor/qJMkIiKSqPTbbWFpTJKIiIhICOokiYiIiISgw20iIiKJSgO3w1IlSURERCQEVZJEREQSlX6WJCxVkkRERERCUCVJREQkUWlMUliqJImIiIiEoEqSiIhIolIlKSxVkkRERERCUCVJREQkUelnScJSJUlEREQkBFWSREREEpQr0HWSwlElSUREROLKzCqb2WIzW2ZmK8zsUW/6I2aWa2ZZ3u3iYss8YGZrzOxLM+tcbPoZZrbcm/e8mZk3/TAzm+hNX2RmTcrKpUqSiIhIovLP2W0/Ax2cc7vMLAVIN7NZ3rxnnHNPFX+ymZ0M9AVOARoCH5jZCc65fOBlYBCwEJgJdAFmAQOB7c65pmbWF3gcuCJcKFWSREREJK5c0C7vYYp3C3cssAcwwTn3s3NuHbAGaG1mDYCazrkFzjkHjAF6FltmtHd/CtCxsMpUGnWSREREEpUriNnNzAaZWWax26DiUcwsycyygE3AXOfcIm/WLWb2uZmNMLPa3rRUYH2xxXO8aane/f2nl1jGObcP2AHUCdc86iSJiIhI1DnnhjnnWha7Ddtvfr5zrjmQRrAqdCrBQ2fHAc2BPGCo9/RQFSAXZnq4ZUqlTpKIiIj4hnPue+BjoItzbqPXeSoAhgOtvaflAI2KLZYGbPCmp4WYXmIZM0sGagHbwmX53XeSDjvsMBZ8Op3PMueyLGseQx6+O96RQurc6TxWfDGfVSvTufeemyOyzrS0hsydM5nPP/+YrKx53HrLwFKf2/KMZvz047dcdtklh7zdSpUq8cYbL5O9Mp1P06fRuHHw9dqs2Sl8Mv89srLmseSzufTu3f2Qt1VcNNrwUK35aiFLl3xAZsYcFi6YWWLeXXf+mX2/5FKnTu1Slo49P7ZhccOHDWVDzjKyln4Y7yil8msb1qpVk4kThvHF8v+w/POPadvmDJo1O4VPP5lW9Pps1bJ5vGMC8f08POecM8nMmENW1jw+/GDKIW83Xp+H5VbgYncLw8zqmtnh3v0qwAXAKm+MUaFLgS+8++8Bfb0z1o4BjgcWO+fygB/MrK033uhqYGqxZa7x7vcC5nnjlkrPVcb8uEmulBqxYNWqVWX37j0kJycz/+N3uPOuISxavCRSqz9kgUCA7BWf0OXiK8nJyWPhgpn0H3AT2dmrD2m9DerXo0H9eizN+oLq1auxaNH79Op13QHrDQQCvD9rAj/99BOjRk/k7bdnlGv9jRun8fprz3DBhb1LTP+/P1/Daaf9gZtvuZ8+fbrTo8dFXHXVjRx//LE451izZh0NGhzFooWzOPX089ixY+ch7WfhPkSjDQ/Vmq8W0ubMi9i6dXuJ6WlpDRn2ypOceGJTWrftcsD8ePBrGxbXvl0bdu3azciRz9G8Rcd4xzmAn9twxOvPkp6+iBEjx5OSkkLVqlWY8OYrPPf8cN6f/REXdenAX+6+kY77vZ9jLVptWL9+PRqW8XlYq1ZN5s+fSteuV7F+/Qbq1q3D5s1by7X+SHwennb6eWzZnB12IHGk7Xnxlph1Aqre/O9S983MTic4qDqJYAFnknPub2Y2luChNgd8A/zZ6whhZg8C1wH7gDucc7O86S2BUUAVgme13eqcc2ZWGRgLtCBYQerrnPs6XOaoVZLM7CQz62hm1feb3iVa2yzN7t17AEhJSSY5JQW/dQxbt2rB2rXfsG7dt+zdu5dJk6bSvVvnshcsw3ffbWJpVrDTvWvXblatWk3DhvUPeN4tN1/HO+/MOODDoF+/y/jvp9PJzJjDSy8+TiBQvpdLt26dGDt2MgBvvTWDDue3A2D16q9Zs2YdAHl5G9m0eSt164YdM1du0WrDaBn61CPc/9d/+Oq1WBHa8JP0RWzb/n28Y5TKr21Yo0Z12rdrw4iR4wHYu3cvO3bsxDlHjZo1AKhZqwYb8jbGMyYQ38/DK/teyrvvzmL9+uDRmeKfidH+PNwcwc/D36SgIHa3MJxznzvnWjjnTnfOneqc+5s3fYBz7jRvevfCDpI37x/OueOccycWdpC86ZneOo5zzt1SWC1yzv3knOvtnGvqnGtdVgcJotRJMrPbCJa3bgW+MLMexWb/MxrbDCcQCJCZMYe83M/58MP5LM5YGusIYTVMrc/6nA1Fj3Ny80J2Zg5F48ZpNG92KosXl9z3hg3r06NHF14dNrbE9JNOakrv3t0559yetGzVifz8fPr1u6xc2yq+P/n5+ezYsfOAQ0qtWjanUqUU1q795uB3qpRtQnTa8GA455g1czyLFs7i+oFXAdC164Xk5ubx+ecr45yuJL+2YUXi1zY89tjGbNmylddfe4aMxbN59ZUnqVq1Cnf9ZQiP/2sw69Zm8MRjD/Hg4H/FO2pcPw+PP/5Yah9eiw/mTmbRwln0798LiM3nYUoEPw8lcqJ1MckbgDO8i0I1AaaYWRPn3HOEHl0OgHc64CAAS6pFIFAtImEKCgpo2aoTtWrV5K3Jr3PKKSeyYsWXEVl3JIS6TEMkKwzVqlVl0sTh3P2XIfzww64S84YOfZS//vWfFOzXy+9wfjv+2OK0onE0latUZtPmLQBMnvwaxzQ5mpRKKRzdKJXMjDkAvPDCa4weM6mU/fn1fv369Rg56nmuu+6OiO1ntNvwYJ1zXk/y8jZSt24d3p81gS+/XMNf77+NLhf3i3e0A/i1DSsSv7ZhclISLVqcxu13PMTijKU8PfRR7rv3FmrWrMHd9zzCO+/MpFevbgx/dSidL+ob16zx/DxMTk7ij388nU6d+1ClSmU+mT+NRYuWxOTzcGAEPw9/E/9cTNKXotVJSiq8KJRz7hszO49gR6kxYTpJ3umAwyCyY5IK7dixk//M/29wUKCPOkm5OXk0SmtY9DgttQF5ESp7JycnM2nicMaPf4d33511wPwz/ng648a9BMCRRx5Bly4d2LdvH2bG2HGTGTz4sQOW6d37eqD0Y/CF+5Obm0dSUhK1atVk27bgmJsaNarz3tQxDBnyRETHhUWzDQ9FYYbNm7cydeoszjnnTJo0OZolmXMBSEtrQMai2Zx59iVs3Lg5nlF924YViV/bMCc3j5ycvKIq+ttvz+Dee27h7LNbceddDwMwZco0hr3yZDxjAvH9PMzJzWPL1m3s2fMje/b8SHr6Qk4//eQK93kokROtMUnfmVnRaRJeh6krcCRwWpS2GdKRRx5BrVo1AahcuTIdO7Tnyy/XxjJCmTIys2ja9BiaNGlESkoKffr0YNr0ORFZ9/BhQ1m1ag3PPjcs5PwTTjyT409oy/EntOXtt2dw621/5b33ZjPvo3Quu7Rr0THy2rUP5+ijU0OuY3/Tp89hwIDgB8Xll1/CRx9/CkBKSgpTJr/OuHFTeOut6RHYu19Fsw0PVtWqVahevVrR/QsvOJfMzCwapjWj6QltaXpCW3Jy8mjVpnPcO0jgzzasaPzahhs3biYnZwMnnHAcAB06tCM7+ys25G3k3HPODE47vx2rvTEy8RTPz8Np02bT7uw2JCUlUaVKZVq1bsGqVasr3Ofhb+Jc7G4VULQqSVcTHG1exLu65dVm9mqUthlSgwZHMeL1Z0lKChAIBJgyZRozZn4Qywhlys/P5/Y7BjNzxpskBQKMGj2RlSu/OuT1nn1WK/r378Xy5SuLSsCDH3qMoxsF39zDho8tddns7NUMeeQJZs0cTyBg7N27j9tue5Bvv80tc7sjRk5g1KjnyV6Zzvbt33NV/5sA6N27G+3bt6FOndpcfXUfHDDw+jtZtmzFIe9rtNHa1QAAACAASURBVNrwUBx1VF2mTH4dCJbxJ0x4l9lzPo5rpnD82Ib7Gzf2Rc4950yOPPIIvvk6k0f/9hQjR02Id6wifm7D2+98iDGjX6BSpRTWrfuWgdffxXvTZvP0038jOTmZn3/6iRtvvDfeMeP6ebhq1Rpmz/mIJUs+oKCggJEjxhcddYj25yEEPw/FXxLiEgCJKqbnkR4E/QeLSCz5/TMRYO8vubG9BMDTN8TuEgB3Da8I/wUl/O4vJikiIiJyMKJ1uE1ERET8rowrYSc6VZJEREREQlAlSUREJFE5XScpHFWSREREREJQJUlERCRRaUxSWKokiYiIiISgTpKIiIhICDrcJiIikqCcfuA2LFWSREREREJQJUlERCRRaeB2WKokiYiIiISgSpKIiEii0sUkw1IlSURERCQEVZJEREQSlcYkhaVKkoiIiEgIqiSJiIgkKl0nKSxVkkRERERCUCVJREQkUWlMUljqJP2O6aUvIvIrfSbKb6VOkoiISKLSdZLC0pgkERERkRBUSRIREUlUGpMUlipJIiIiIiGokyQiIiISgg63iYiIJCini0mGpUqSiIiISAiqJImIiCQqDdwOS5UkERERkRBUSRIREUlUqiSFpUqSiIiISAiqJImIiCQq/SxJWKokiYiIiISgSpKIiEii0piksFRJEhEREQlBlSQREZEE5VRJCkuVJBEREZEQVEkSERFJVKokhaVKkoiIiEgIqiSJiIgkqgJdJymchKgkde50Hiu+mM+qlence8/N8Y4Tkt8z+j0f+D+j3/OB/zP6PR8oYyT4NV8gECBj8WymvjMagDffeJnMjDlkZsxhzVcLycyYE+eEEmnmnD+PRyZXSo1IsEAgQPaKT+hy8ZXk5OSxcMFM+g+4iezs1ZFYfUT4PaPf84H/M/o9H/g/o9/zgTJGgp/z3XH7IM4443Rq1qhBj0uvKTHvyccfZsfOnfz9H88e0jb2/ZJrh7SC3+iHWy6OWSegxr9nxnTfIuF3X0lq3aoFa9d+w7p137J3714mTZpK926d4x2rBL9n9Hs+8H9Gv+cD/2f0ez5Qxkjwa77U1AZcfFFHRowYH3J+r17dmDBxaoxTRUCBi92tAopaJ8nMWptZK+/+yWZ2l5ldHK3tlaZhan3W52woepyTm0fDhvVjHSMsv2f0ez7wf0a/5wP/Z/R7PlDGSPBrvqeHPsr9D/ydghBjeNq3a8PGTZtZs2ZdHJJJNEVl4LaZDQEuApLNbC7QBvgYuN/MWjjn/lHKcoOAQQCWVItAoFokshwwzW+HGP2e0e/5wP8Z/Z4P/J/R7/lAGSPBj/kuufgCNm3awpKlyzn3nDMPmH/FFT2ZWBGrSFBhKzyxEq2z23oBzYHDgO+ANOfcTjN7ElgEhOwkOeeGAcMgcmOScnPyaJTWsOhxWmoD8vI2RmLVEeP3jH7PB/7P6Pd84P+Mfs8HyhgJfsx31lkt6da1Exd16UDlyodRs2YNRo96nmv+dBtJSUlc2vMiWre9KK4ZJTqidbhtn3Mu3zm3B1jrnNsJ4Jz7EYjp+YYZmVk0bXoMTZo0IiUlhT59ejBtur/OQPB7Rr/nA/9n9Hs+8H9Gv+cDZYwEP+Z7cPBjNDm2JU1PaMtV/W/io48+5Zo/3QbABR3b8+WXa8jNzYtrxoPlnIvZLRwzq2xmi81smZmtMLNHvelHmNlcM1vt/Vu72DIPmNkaM/vSzDoXm36GmS335j1vXnnSzA4zs4ne9EVm1qSs9olWJekXM6vqdZLOKBa8FjHuJOXn53P7HYOZOeNNkgIBRo2eyMqVX8UyQpn8ntHv+cD/Gf2eD/yf0e/5QBkjwe/59tenT4+KOWDbf34GOjjndplZCpBuZrOAy4APnXOPmdn9wP3AfWZ2MtAXOAVoCHxgZic45/KBlwkO3VkIzAS6ALOAgcB251xTM+sLPA5cES5UVC4BYGaHOed+DjH9SKCBc255WeuI1OE2ERGRiiLWlwDYeUOnmH3X1hw+p1z7ZmZVgXTgRmAMcJ5zLs/MGgAfO+dONLMHAJxz//KWmQ08AnwDfOScO8mbfqW3/J8Ln+OcW2BmyQSHA9V1YTpCUTncFqqD5E3fUp4OkoiIiPy+mNkgM8ssdhu03/wkM8sCNgFznXOLgKOcc3kA3r/1vKenAuuLLZ7jTUv17u8/vcQyzrl9wA6gTrjM+lkSERGRRBXDs9uKn5xVyvx8oLmZHQ68Y2anhlldqKqUCzM93DKl+t1fTFJEREQqDufc9wQvG9QF2OgdZsP7d5P3tBygUbHF0oAN3vS0ENNLLOMdbqsFbAuXRZ0kERGRBOUKXMxu4ZhZXa+ChJlVAS4AVgHvAYW/AXMNUDhK/j2gr3fG2jHA8cBi75DcD2bW1jur7er9lilcVy9gXrjxSKDDbSIiIhJ/DYDRZpZEsIAzyTk33cwWAJPMbCDwLdAbwDm3wswmASuBfcDN3uE6CA74HgVUIXhW2yxv+uvAWDNbQ7CC1LesUL/7H7gVERGpKGJ9dtuOazrG7Lu21ugP9QO3IiIiIr8HOtwmIiKSqGJ6eeeKR5UkERERkRDUSRIREREJQYfbREREElRZp+YnOlWSREREREJQJUlERCRRqZIUlipJIiIiIiGokiQiIpKodAmAsFRJEhEREQlBlSQREZEEpbPbwlMlSURERCQEVZJEREQSlcYkhaVOkkgYSQH/F1vzC/QpJ1IeAatwP0IvcaZOkoiISILSmKTw/P9nsoiIiEgcqJIkIiKSqHS0PixVkkRERERCUCVJREQkQTlVksJSJUlEREQkBHWSRERERELQ4TYREZFEpcNtYamSJCIiIhKCKkkiIiIJSgO3w1MlSURERCQEVZJEREQSlSpJYamSJCIiIhKCKkkiIiIJSmOSwlMlSURERCQEVZJEREQSlCpJ4amSJCIiIhKCKkkiIiIJSpWk8FRJEhEREQlBlSQREZFE5SzeCXxNlSQRERGREBKmkxQIBMhYPJup74yOd5SQOnc6jxVfzGfVynTuvefmeMc5wJqvFrJ0yQdkZsxh4YKZ8Y4TUrTasFatmox/8xU+X/YRy7Lm0abNH0vMr1mzBm+/NYKMxbNZuuQDrr66zyFvs1KlSowb+xIrV3zCJ/Pfo3HjNABOP/1k/vPxu0X/F716dTvkbRXn99fhCSccR2bGnKLbti2ruO3W6+Mdq4RoteHwYUPZkLOMrKUfhpx/5ZWXsuSzuSz5bC6f/Gcqp59+8iFvs1KlSrz5xsusWpnOf9OnFb0OmzU7hfT577Esax5LPptL797dD3lbxUXzdRgIBFi86H3eeWfUAfMOP7wWkye9xmeZc/k0fTqnnHziIW+vUqVKvDHuJVauTCf9k2JtePrJzP/PVLKWfshnmXPpHeH3cnm5gtjdKqKE6STdduv1rFq1Ot4xQgoEAjz/3D/o2q0/pzU7nyuu6Mkf/nB8vGMd4IILe9OyVSfannlxvKMcIJptOHToI8yZ+zGnNzuflq06s2rVmhLz/+//riE7ezWtWnfmwk59ePyxh0hJSSnXuhs3TmPOnEkHTL/2T335/vvvOfmU9jz/wmv84+9/BeDHPT8ycOAdtPjjBXTrPoCnnhxCrVo1D30nqRivw6++WkvLVp1o2aoTrdt0Yc+eH3l36qx4xyoSzTYcM2YSl3S9qtT536xbT4eOvfjjGRfyj38+yysvPV7udTdunMaHcycfMP26a69k+/YdnHRyO559fjj/+ueDAOzZ8yN/uu52mjXvwCVd+/P0U49UmNfhrbcOPOA9XOi++25l2bIVnNHyQq4beDtDn3603Ott3DiNuXMObMNrr+3L9u93cPLJ7Xj++eH88x/B9/KeH3/kuoF30LxFR7p2689TEWxDiZyYdZLMbEystrW/1NQGXHxRR0aMGB+vCGG1btWCtWu/Yd26b9m7dy+TJk2le7fO8Y5VoUSrDWvUqE77dm0YOXICAHv37mXHjp0lnuOco0aN6gBUr16N7du/Z9++fUDwr/v0T6axeNH7vPjvfxEIlO8t161bJ8aOmwLA22/P4PzzzwZg9Zp1rFn7DQB5eRvZvHkrdevWOeT9hIr3OuzYoR1ff/0/vv02N95RikSzDT9JX8S27d+XOn/Bwky+/34HAAsXLSE1tUHRvH79LmPBp9PJzJjDSy8+Xu7XYfdunRg7NvjF/9ZbM+hwfjsAVq/+mjVr1gHB1+GmCvI6TE1twEUXdWTEyDdDzv/DH45n3kfpAHz55VoaN06jXr0jAeh35WV8mj6djMWzefHFx37be7mwDd+ewflFbbiuRBtG8r0skROVTpKZvbffbRpwWeHjaGwznKeHPsr9D/ydggJ/1vsaptZnfc6Gosc5uXk0bFg/jokO5Jxj1szxLFo4i+sHlv7XbLxEqw2POeZoNm/exvDhT7No4SxefvkJqlatUuI5L788ihNPaso36zL5LHMud989BOccJ53YlN69unHe+ZfSuk0X8vMLuPLKS8u3Pw3rk+PtT35+Pjt3/kCdOrVLPKdly+ZUqpTCWq/TdKgqwuuwuD59ejBh4rvxjlGCX9rwumv78v7sjwA46aSm9Ondnfbn9qRlq07k5+fTr99l5VpP8f3Jz89nx46dB7wOW1Wg1+HQpx7hgQf+QUGBCzl/+ecr6dnzIiD4/mp8dBqpqQ046aSm9O7djXPP60mr1p2DbVjO93Jqw/rk5OQBXhvuPLANI/1e/i1cgcXsVhFF6+y2NGAl8BrgAANaAkPDLWRmg4BBAJZUi0Cg2iEHueTiC9i0aQtLli7n3HPOPOT1RYPZgS8e50K/iePlnPN6kpe3kbp16/D+rAl8+eUaPklfFO9YRaLVhsnJybRocSp33vUQGRlZDH3qEe6552YeffSpoudceOG5fL5sJZ07X8FxxzZh5sw3SG+1mPPPP5sWLU7nv59OB6BKlcps2rwFgEkTh9OkSSMqVUqhUaNUFi96H4B/vziCMWMmEWJ3SuxP/fr1GDniWQZef2fEXisV4XVYKCUlhW5dO/Hg4H/FO0oJfmjD8849i2uvvZJzzwt+iXc4vx1/bHFa0VjCKlUqs9l7HU6Z/BpNmhxNpUopHN0olcyMOQC88MJrjB4zqZT9+fV+/fr1GDXqea677g7fvw4vufgCNm3ewtKlyzmnlO+CJ558kaeHPkrG4tl88cUqsrK+IH/fPs4/vx0tWpzGgv/OALw23LQVgMmTXivxXs5YPBuAF/79uvdeDr8/9evXY9TI57huYOTeyxI50eoktQRuBx4E7nHOZZnZj865/4RbyDk3DBgGkFwpNSKvlrPOakm3rp24qEsHKlc+jJo1azB61PNc86fbIrH6iMjNyaNRWsOix2mpDcjL2xjHRAcqzLN581amTp1Fq1bNfdVJilYb5ubmkZObR0ZGFgBvvzOTe/5yU4nnXHN1H5586iUA1n79Deu+Wc+JJzbFzBj3xmQeeujAsSF9rrgBCI5jGD78aTp1KjnYOzf3O9LSGpKb+x1JSUnUrFmDbduCh1pq1KjOu++MYsgjT7J48dJD3seibVaA12GhLl3OZ+nS5WzatCXeUUqIdxuedtofePWVJ+nafQDbtm0Hgp2OseMm8+Dgxw54fq/ewUHvjRunMeK1Z+h4Ye8S8wv3Jzc3j6SkJGrVqlm03ho1qvPe1DE8POQJFi1eErF9iFYbnnVWS7pe0okunX/9Lhg18nn+dO2v3wU//LCLGwbdXfT4qy8XsO6b9bRr35Zx46Yw+KED27B3n1/b8LXhz3Bhp5JtmJObR1pag1/bsGbNEu/lqe+OZsiQJ1gcwTb8LSrqgOpYicrhNudcgXPuGeBa4EEz+zdxuibTg4Mfo8mxLWl6Qluu6n8TH330qa86SAAZmVk0bXoMTZo0IiUlhT59ejBt+px4xypStWoVqlevVnT/wgvOZcWKL+OcqqRoteHGjZvJycnjhOOPBeD8888mO7vkCQDr128oGjNUr96RnHD8caxb9z/mffQpl116SdE4g9q1D+foo1PLtd3p0+cyoH8vAC677BI+/vhTIFhBmTxpOG+88RZvvz3jkPevOL+/Dovre0VP3x1qg/i2YaNGDZk8cTh/uvZ2Vq/+umj6vI/SuezSrgf1Opw2fQ4DBgS/9C+//BI+KvY6fGvy64wbN4W33poe0f2IVhs+OPgxjj2uFSeceCb9B9zMRx9/WqKDBMEzWQtPurjuun6kpy/ihx928dG8dC697BDey4VtuP97efJrjHtjCm9F+L0skRPVjotzLgfobWaXADvLen6iys/P5/Y7BjNzxpskBQKMGj2RlSu/inesIkcdVZcpk18HIDk5iQkT3mX2nI/jG2o/0WzDO+98iFGjXqBSpRTWrfuWGwbdzQ3X9wdg+Gvj+Oe/nuO14U/zWeZczIwHB/+TrVu3s3XrdoY88iQzpr9BIBBg79693H7H4HINNB45agIjRzzLyhWfsG3b9wy4OngadK9eXWnXrg1HHFG76IP3uuvvZNmyFYe8n35/HRaqUqUyF3Q8hxtvui/eUQ4QzTYcN/ZFzj3nTI488gi++TqTR//2VNEX+rDhYxn84J3UqVObF174JwD79u2j7ZkXk529mocfeYJZM8cTCBh79+7jttseLNfrcMTICYwe9TyrVqazffv39OsfrKL27t2N9u3bcESd2kWXvBhYQV+HN9zgvZeHj+Okk5oyYsRzFOTnk529mkF//gsA2atW88iQJ5g5482i9/Jtt5fzvTxyAqNGPsfKlels3/Y9/Qd4bdirG+3btaHOEbW5ekCwDa+//s4o7WXpnC4mGZb59RhopA63iRyKpHKewRJP+T49IUHEbwKhBvv5zC8/58Q0ZO6ZHWL2XZu6YJ7//wP2o58lERERSVAakxSe//9MFhEREYkDVZJEREQSVEW9flGsqJIkIiIiEoIqSSIiIgnKp+du+YYqSSIiIiIhqJIkIiKSoDQmKTxVkkRERERCUCdJREQkQbkCi9ktHDNrZGYfmVm2ma0ws9u96Y+YWa6ZZXm3i4st84CZrTGzL82sc7HpZ5jZcm/e8+b9yrCZHWZmE73pi8ysSVnto06SiIiIxNs+4G7n3B+AtsDNZnayN+8Z51xz7zYTwJvXFzgF6AK8ZGZJ3vNfBgYBx3u3Lt70gcB251xT4BngwF8f3486SSIiIhJXzrk859wS7/4PQDYQ7leEewATnHM/O+fWAWuA1mbWAKjpnFvggr+7NgboWWyZ0d79KUDHwipTadRJEhERSVDOxe5mZoPMLLPYbVCoTN5hsBbAIm/SLWb2uZmNMLPa3rRUYH2xxXK8aane/f2nl1jGObcP2AHUCdc+6iSJiIhI1DnnhjnnWha7Ddv/OWZWHXgLuMM5t5PgobPjgOZAHjC08KmhNhFmerhlSlVmJ8nMnjCzmmaWYmYfmtkWM+tf1nIiIiLib34ZuA1gZikEO0hvOOfeBnDObXTO5TvnCoDhQGvv6TlAo2KLpwEbvOlpIaaXWMbMkoFawLZwmcpTSerk9ea6ehs4AbinHMuJiIiIlMkbG/Q6kO2ce7rY9AbFnnYp8IV3/z2gr3fG2jEEB2gvds7lAT+YWVtvnVcDU4stc413vxcwzxu3VKryXEwyxfv3YmC8c25bGeOcREREpAJwzjff52cDA4DlZpblTfsrcKWZNSd4WOwb4M8AzrkVZjYJWEnwzLibnXP53nI3AqOAKsAs7wbBTthYM1tDsILUt6xQVkYnCjN7jODI8B8JlrkOB6Y759qUucuHILlSqn5RRuIuKeD/YXv5BQXxjiBSIQQqwB/4v/ycE9OQa0/tHLPv2uO+mO3//4D9lFlJcs7db2aPAzudc/lmtofgaXQiIiJSgTn9jRVWeQZuVwVuJjjCHKAh0DKaoURERETirTxjkkYCnwFneY9zgMnA9GiFEvELHcoS+f0oKGN4SSIq8M+YJF8qz4CL45xzTwB7AZxzPxL6WgMiIiIivxvlqST9YmZV8C64ZGbHAT9HNZWIiIhEnY/ObvOl8nSShgDvA43M7A2Cp+n9KZqhREREROKtPGe3zTWzJQR/ldeA251zW6KeTERERKKqPFfCTmRldpLM7Bzv7g/evyebGc65+dGLJSIiIhJf5TncVvwnSCoTvKDkZ0CHqCQSERGRmNAJf+GV53Bbt+KPzawR8ETUEomIiIj4wMH85kIOcGqkg4iIiIj4SXnGJL2Ad/o/wU5Vc2BZNEOJiIhI9GngdnjlGZOUWez+PmC8c+7TKOURERER8YXyjEkaHYsgIiIiElv6WZLwSu0kmdlyfj3MVmIW4Jxzp0ctlYiIiEichaskdY1ZChEREYk5/SxJeKV2kpxz/4tlEBERERE/KfMSAGbW1swyzGyXmf1iZvlmtjMW4URERCR6nIvdrSIqz3WS/g1cCawGqgDXAy9EM5SIiIhIvJXnEgA459aYWZJzLh8YaWb/jXIuERERiTKd3RZeeTpJe8ysEpBlZk8AeUC16MYSERERia9SD7eZWUvv7gDvebcAu4FGwOXRjyYiIiLR5JzF7FYRhaskDTez6sB4YIJzbiXwaGxiiYiIiMRXqZUk51wLgtdKygemmFmWmd1nZo1jli5COnc6jxVfzGfVynTuvefmeMcJye8Z/Z4P/J0xLa0hH8yZzPLPP2ZZ1jxuvWVgvCOF5Oc2BP/nA2WMBL/mq1WrJhMnDOOL5f9h+ecf07bNGdSufTjvzxxP9op03p85nsMPrxXvmL+Jzm4Lz1w5k5tZM6Av0Af4zjl3djSDJVdKjUiTBgIBsld8QpeLryQnJ4+FC2bSf8BNZGevjsTqI8LvGf2eD/yfsX79ejSoX4+lWV9QvXo1Fi96n8t7XeebfOD/NvR7PlDGSPBzvhGvP0t6+iJGjBxPSkoKVatW4YH7b2Xbtu954skXufeem6lduxYP/PWfB72Nfb/kxvS41JJGPWLWffnj+qkV7phbeS4BgJkFgHrAUQQHbW/+LRsxs3ZmdpeZdfrtEQ9N61YtWLv2G9at+5a9e/cyadJUunfrHOsYYfk9o9/zgf8zfvfdJpZmfQHArl27WbVqNakN68c5VUl+b0O/5wNljAS/5qtRozrt27VhxMjxAOzdu5cdO3bSrVtnxoydDMCYsZPp3r1LPGP+ZgXOYnariMJ2ksysvZm9BOQA9wDpwInOuZ5lLLe42P0bCF5rqQYwxMzuP+TUv0HD1Pqsz9lQ9DgnN4+GPvty8ntGv+eDipGxUOPGaTRvdiqLFi+Nd5QS/N6Gfs8HyhgJfs137LGN2bJlK6+/9gwZi2fz6itPUrVqFY6qdyTffbcJCP4xVK9unTgnlUgKd3bbeuAxIBto4Zzr5Jwb4ZzbUY71phS7Pwi40Dn3KNAJuCrMNgeZWaaZZRYU7C7fHpTB7MDea3kPMcaK3zP6PR9UjIwA1apVZdLE4dz1lyH88MOueMcpwe9t6Pd8oIyR4Nd8yUlJtGhxGq++OoZWrTuze/ce7rv3lnjHOmQ6uy28cJWkds65s51zLzjnNv7W9ZpZbTOrQ3Dc02YA59xuYF9pCznnhjnnWjrnWgYCkbkUU25OHo3SGhY9TkttQF7eb92d6PJ7Rr/ng4qRMTk5mckThzN+/Du8++6seMc5gN/b0O/5QBkjwa/5cnLzyMnJY3FGsAL89tszaNH8NDZu2kL9+vWA4NjDTZu3xjOmRFi4s9sO5QduawGfAZnAEWZWH8C7pEBMu5MZmVk0bXoMTZo0IiUlhT59ejBt+pxYRiiT3zP6PR9UjIzDhw0le9Uann1uWLyjhOT3NvR7PlDGSPBrvo0bN5OTs4ETTjgOgA4d2pGd/RXTp83h6gG9Abh6QG+mTZsdz5gSYeX6WZLfyjnXpJRZBcCl0dhmafLz87n9jsHMnPEmSYEAo0ZPZOXKr2IZoUx+z+j3fOD/jGef1YoB/Xvx+fKVZGYEP/AfeugxZr0/L87JfuX3NvR7PlDGSPBzvtvvfIgxo1+gUqUU1q37loHX30UgEGDCm69w7Z+uZP36XK648s/xjvmbVNQB1bFS7ksAxFqkLgEgIiJSUcT6EgCLGl4Ws+/aNhvernA9slIrSWb2AlBq4znnbotKIhEREYkJVSPCC3e4LTNmKURERER8ptROknNudCyDiIiISGxpTFJ4ZQ7cNrO6wH3AyUDlwunOuQ5RzCUiIiISV+X5WZI3CF5Q8hjgUeAbICOKmURERCQGdDHJ8MrTSarjnHsd2Ouc+49z7jqgbZRziYiIiMRVea6TtNf7N8/MLgE2AGnRiyQiIiKxUBDvAD5Xnk7S382sFnA38AJQE7gzqqlERERE4qzMTpJzbrp3dwdwfnTjiIiISKy42P5SWIVTnrPbRhLielPe2CQRERGR36XyHG6bXux+ZYK/vbYhOnFEREQkVgp0ye2wynO47a3ij81sPPBB1BKJiIiI+EB5Kkn7Ox44OtJBREREJLYKNCYprPKMSfqBkmOSviN4BW4RERGR363yHG6rEYsgIiIiIn5S5hW3zezD8kwTERGRisVhMbtVRKVWksysMlAVONLMakPRHtYEGsYgm4iIiEjchDvc9mfgDoIdos/4tZO0E3gxyrlEREQkyvSzJOGV2klyzj0HPGdmtzrnXohhJhEREZG4K3NMElBgZocXPjCz2mZ2UxQziYiISAxoTFJ45ekk3eCc+77wgXNuO3BD9CKJiIhIIjGzRmb2kZllm9kKM7vdm36Emc01s9Xev7WLLfOAma0xsy/NrHOx6WeY2XJv3vNmZt70w8xsojd9kZk1KStXeTpJgcINeBtJAiqVf9dFRETEjwpieCvDPuBu59wfgLbAzWZ2MnA/8KFz7njgQ+8x3ry+wClAF+Alr38C8DIwiODFr4/35gMMBLY755oCzwCPlxWqPJ2k2cAkM+toZh2A8cD75VhOREREpEzOuTzn3BLv/g9ANpAK9ABGIswqPgAAIABJREFUe08bDfT07vcAJjjnfnbOrQPWAK3NrAFQ0zm3wDnngDH7LVO4rilAx+JFoFDK87Mk9xHskd1I8Ay3OcDwciwnIiIiPhbLs9vMbBDB/kShYc65YSGe1wT+P3v3HR9Fnf9x/PVJoYh0lRaKJ/YCShEFERApSpWuWLGcYvf09IeKnL2gB3aaVOlSBQ2ISDl67wKCQAiCUlT0jpTv748dYkI2S4BsdkLeTx/7YDO7M/Oer5Psdz/znRmuBBYBZZxziRDoSJnZOd7bKgAL0822y5uW5D0/dvrReXZ6y0o2s0NAaeDnrDJn54rbqcAn3gMzqwe8D3Q/3rwiIiIiAF6HKFOnKD0zOxMYDzzunPs1RKEn2AsuxPRQ82QpWze4NbPqQBegE7AN+CI784mIiIh/+emsMzOLJdBBGuGcO9rP+MnMynlVpHLAXm/6LqBiutnjgN3e9Lgg09PPs8vMYoDiwP5QmbIck2RmF5jZi2a2AfjAW7g55xrqukkiIiKSU7yxQQOBDc65d9O9NBm403t+JzAp3fTO3hlr5xIYoL3YOzT3m5nV8ZZ5xzHzHF1We2CWN24pS6EqSRuBuUBL59wWbyOeOP6mioiISF6Q6p9CUl3gdmCNma30pv0f8AaBk8e6ATuADgDOuXVmNgZYT+DMuO7OuRRvvgeBwUBhYLr3gEAnbJiZbSFQQep8vFChOkntvAV8a2ZfAaMIfjxPRERE5KQ55+aRdR/jhizmeRV4Ncj0pcBlQab/F6+TlV2hbksyAZhgZkUInD73BFDGzD4GJjjn4k9kRSIiIuIvqap9hHTc6yQ55w4750Y451oQGAC1Eu9iTiIiIiKnq+xcTDKNc26/c+5T51yjcAUSERER8YNsXQJARERETj8hT+2SE6skiYiIiOQXqiSJiIjkU7l5W5K8SJUkERERkSBUSRIREcmnUrO+N5qgSpKIiIhIUKokiYiI5FM6uy00VZJEREREgsgXnaRHHu7GyhXfsGrlLB595N5IxwmqaZMGrFs7h43r5/HM090jHSeDuLjyzIwfy5rVs1m1chaPPNwt0pGC8lsbXnDBeSxdEp/22P/zRh595F56vfQ0y5fNYOmSeKZ/+TnlypWJdNQ0fmtDgC3fL2TF8pksXRLPwgXTAHjz9edZu+Y7li+bwbixAyhevFiEU/7Fj21YsGBBFsyfyrKlM1i1chY9X3wKgJIlS/DVtJFsWDePr6aNpESJ4hFOGhCuNuzfrze7d61i5Ypvgr5+4YXnMW/OZA7/9gNPPvFAjqyzQIECfD7iYzaun8d/5k2hcuU4AKpVu5R5cyazauUsli+bQYcOrXJkfScqNRcfeZE5589iW0yBCjkS7NJLL2TE8I+45tqbOXIkiWlTR9D9kefYsmVbTiw+R0RFRbFh3Vya3dSFXbsSWbhgGl1vf4gNGzZHOhoAZcueQ7my57Bi5VrOPLMIixd9Rbv29/gmH/i/DaOiotixfRnX1mvBgQOH+O233wF4uPs9XHzxBXR/OPJ3+vFrG275fiFXX9OcX345kDbtxsb1mfXtfFJSUnj9tf8D4Ln/ey1SEdP4tQ0BihQ5g8OH/yAmJoY5syfwxJM9adu2Ofv3H+Sttz/kmae7U7Jk8Yi3Yzjb8Lp6V/P774f57LM+VL8y8z1Tzz67NJUrxdG6dTMOHDjIu+99mu1lV64cx6AB73HDjRnvn/r3B+7k8ssvpvvDz9KxYyvatG7Orbc9yPnn/w3nHFu2bKNcuTIsXjidy65owC/7NuTqSOrR5W7LtU5Ap8QReW6U+GlfSbroovNZtGg5f/75X1JSUpgzdyFtWjeLdKwMate6kq1bt7Nt2w6SkpIYM2YSrVo2jXSsNHv27GXFyrUA/P77YTZu3EyF8mUjnCojv7fhDY3q8cMPP7JjR0JaBwkCH1x++aLi9zZMb8bMOaSkpACwcNFyKlQoF+FEAX5uw8OH/wAgNjaGmNhYnHO0bNmUocPGAjB02FhatYr838ZwtuHceYvYf+Bglq/v2/cLS5etIikpKdNrt956CwvmT2Xpkng++vBNoqKy9/HZqmUThnltPH78lzRqWA+AzZt/SPuynpj4E3v3/cLZZ5c+0U06ZamWe4+8KCydJDO72syKec8Lm1kvM5tiZm+aWa7Wc9et28h119WhVKmSFC5ciObNGhEXVz43IxxX+Qpl2blrd9rPuxISKe+zTshRlSvHUb3aZSxavCLSUTLwext27NiaUaMnpv388r/+ybatS+jSpS0v9Xo7gsn+4tc2dM4xfdpIFi2czr3dbsv0+t13dearr7+NQLLM/NqGEKjQLF0ST2LCar75Zg6Ll6ygzDlnsWfPXiDwZeicCHxIH8uPbXjRRVXp2KEV113fhpq1mpCSksKtt96SrXnTb09KSgqHDv1K6dIlM7ynVs3qFCgQy9at23M6upyicJ3dNgio5j3vA/wBvAncAHwGBN27zOx+4H4Aiy5OVFSRUw6yceMW3n77Q76aPpLDvx9m1er1pCSnnPJyc5IFuU6FX6oL6RUpcgZjRvfnyX/0zFAN8QM/t2FsbCwtWzShx/Ovp0174cU3eeHFN/nnMw/T/aG76fWv3hFMGODXNqzfoA2JiT9x9tml+Wr6KDZt2sLceYsAeO7ZR0lOTubzz7+IcMoAv7YhQGpqKjVrNaF48WKMHzuQSy+9MNKRgvJjGzZqWI+rrrw8bUxc4cKF2LfvZwDGjR1AlSqVKFAglkoVK7B0STwA778/gCFDx2SxPX89L1v2HAYP7ss99zweke1MJY+WeHJJuDpJUc65ZO95TefcVd7zeWa2MquZnHP9gH6Qc2OSAD4bPIrPBo8C4JWXn2XXrsScWnSOSNiVSMV01a24CuVITPwpgokyi4mJYezo/owcOYGJE6dHOk4mfm7DZs0asmLFGvbu/TnTayNHTWDypKG+6CT5tQ2PZti37xcmTZpOrVrVmTtvEbff3oGbb2rMjU07RjjhX/zahukdOvQr3835D02bNOCnvT9Ttuw57Nmzl7Jlz2Hvvl8iHc+XbWhmDBs+lh7Pv5HptfYdAicDZTUm6ej2JCQkEh0dTfHixdi/PzC+rmjRM5k8aSgv9nyLRYuXh39D5ISFa0zSWjO723u+ysxqApjZBUDmg71hdvQ4b8WK5WnTpnmGwx5+sGTpSqpWPZcqVSoSGxtLx46tmTI1PtKxMujfrzcbNm7h3336RTpKUH5uw86d2mTY56pWPTftecsWTdi0aWskYmXixzY844zCnHlmkbTnNza+nnXrNtG0SQOe/sdDtLnlLv78878RzZieH9sQ4KyzSqWdAVioUCFuaHQdmzZtZeqUeO64PfChfsftHZgy5etIxgT82Yazvp3HLW1bpH2WlCxZgkqVKmRr3ilT47nda+N27W7m29nzgUCFefzYgQwfPo7x46eGJ3g2uFx85EXhqiTdC/Qxs+eBn4EFZrYT2Om9lqvGju5PqdIlSUpK5tFHe3Dw4KHcjhBSSkoKjz3+PNO+/JzoqCgGDxnN+vXfRzpWmrrX1uL2ru1ZvWZ9Win5hRfeYPpXsyKc7C9+bcPChQvR+Ib6PPjQP9Omvfbqc1xwwXmkpqayY0cCD3WP/Jlt4M82LFPmbMaNHQhATEw0o0ZN5Ov42WxcP4+CBQvy1fRAhXjRouW+OEPQj20IUK5cGQYN/DfR0VFERUUxbtwUvpw2kwULlzHq80+4+64u7NyZQKcuOXPa+6kIZxsOH/Yh19e/hrPOKsX2H5bS61/vEBsbC0C//sMoU+ZsFi2YTrFiZ5Kamsqjj9zH5dUasGHDZl586S2mTxtJVJSlfZbs2JFw3HUO+mwUQwb3ZeP6eRw4cJBbuz4EQIcOLbnuuqspVbokd9wRqIZ2u/eJHNlOyTlhvQSAmRUF/kagM7bLOZftmmlOHm4TERHJC5KPJOTqIKHh5bvm2mdt193D89wAqLDelsQ59xuwKpzrEBERkZOTV0/Nzy2n/XWSRERERE6GbnArIiKST+XV24XkFlWSRERERIJQJUlERCSf0hlSoamSJCIiIhKEKkkiIiL5lM5uC02VJBEREZEgVEkSERHJp3R2W2iqJImIiIgEoUqSiIhIPqVKUmiqJImIiIgEoUqSiIhIPuV0dltIqiSJiIiIBKFKkoiISD6lMUmhqZIkIiIiEoQ6SSIiIiJB6HCbiIhIPqXDbaGpkiQiIiIShCpJIiIi+ZSLdACfUyVJREREJAhVkkRERPKpVF1MMiRVkkRERESCUCVJREQkn9LZbaGpkiQiIiIShCpJIiIi+ZQqSaGpkiQiIiIShCpJIiIi+ZSukxSaKkkiIiIiQaiSJCIikk/pOkmhqZIkIiIiEoQqSSIiIvmUzm4LTZUkERERiTgzG2Rme81sbbppL5lZgpmt9B43pXvtOTPbYmabzKxpuuk1zGyN91pfMzNvekEzG+1NX2RmVY6XSZ0kERER8YPBQLMg099zzlX3HtMAzOwSoDNwqTfPR2YW7b3/Y+B+4HzvcXSZ3YADzrmqwHvAm8cLpE6SiIhIPuVy8XHcLM7NAfZnM3prYJRz7n/OuW3AFqC2mZUDijnnFjjnHDAUaJNuniHe83HADUerTFlRJ0lERETCzszuN7Ol6R73Z3PWh81stXc4rqQ3rQKwM917dnnTKnjPj52eYR7nXDJwCCgdasUauC0iIpJPpebi5SSdc/2Afic428fAywSKUS8DvYF7gGAVIBdiOsd5LShVkkRERMSXnHM/OedSnHOpQH+gtvfSLqBiurfGAbu96XFBpmeYx8xigOIc5/CeOkkiIiL5VGouPk6GN8boqLbA0TPfJgOdvTPWziUwQHuxcy4R+M3M6njjje4AJqWb507veXtgljduKUs63CYiIiIRZ2YjgQbAWWa2C+gJNDCz6gQOi20HHgBwzq0zszHAeiAZ6O6cS/EW9SCBM+UKA9O9B8BAYJiZbSFQQep83EzH6URFTEyBCv4MJiIiEibJRxJy9UYh/6p8W6591r7444g8dxOUfHG4rWmTBqxbO4eN6+fxzNPdIx0nKL9n9Hs+8H9Gv+cD/2f0ez5Qxpzg93z9+/Vm965VrFzxTaSjSJid9p2kqKgo+vZ5lRYtu3J5tYZ06tSGiy8+P9KxMvB7Rr/nA/9n9Hs+8H9Gv+cDZcwJfs8HMHToGG5ucVukY+QIv49JirSwdJLM7FEzq3j8d4Zf7VpXsnXrdrZt20FSUhJjxkyiVcumx58xF/k9o9/zgf8z+j0f+D+j3/OBMuYEv+cDmDtvEfsPHIx0DMkF4aokvQwsMrO5ZvaQmZ0dpvUcV/kKZdm5a3faz7sSEilfvmyk4gTl94x+zwf+z+j3fOD/jH7PB8qYE/ye73STarn3yIvC1Un6gcC1CV4GagDrzewrM7vTzIpmNVP6q3Gmph7OkSDBrjjut8Hqfs/o93zg/4x+zwf+z+j3fKCMOcHv+SR/CdclAJx34ad4IN7MYoHmQBfgHSBoZSn91Thz6uy2hF2JVIwrn/ZzXIVyJCb+lBOLzjF+z+j3fOD/jH7PB/7P6Pd8oIw5we/5Tje5ecXtvChclaQMXwWcc0nOucnOuS5ApTCtM6glS1dSteq5VKlSkdjYWDp2bM2UqfG5GeG4/J7R7/nA/xn9ng/8n9Hv+UAZc4Lf80n+Eq5KUqesXnDO/RmmdQaVkpLCY48/z7QvPyc6KorBQ0azfv33uRnhuPye0e/5wP8Z/Z4P/J/R7/lAGXOC3/MBDB/2IdfXv4azzirF9h+W0utf7/DZ4FGRjnVSVEcKTReTFBER8Yncvphkjyq35tpn7avbP89zw7dP++skiYiIiJwM3btNREQkn8qrF3nMLaokiYiIiAShSpKIiEg+pUsAhKZKkoiIiEgQqiSJiIjkU6ojhaZKkoiIiEgQqiSJiIjkUzq7LTRVkkRERESCUCVJREQkn9LZbaGpkiQiIiIShCpJIiIi+ZTqSKGpkiQiIiIShCpJIiIi+ZTObgtNlSQRERGRIFRJEhERyaecRiWFpEqSiIiISBDqJImIiIgEocNtIiIi+ZQGboemTpJICBbpANmgEQWnv9ho//+pTkpJjnSE4yoYExvpCJLH+P83T0RERMJCtyUJTWOSRERERIJQJUlERCSfUh0pNFWSRERERIJQJUlERCSf0pik0FRJEhEREQlClSQREZF8StdJCk2VJBEREZEgVEkSERHJp3SD29BUSRIREREJQpUkERGRfEpjkkJTJUlEREQkCFWSRERE8imNSQpNlSQRERGRINRJEhEREQlCh9tERETyKQ3cDk2VJBEREZEgVEkSERHJp1KdBm6HokqSiIiISBCqJImIiORTqiOFdlpWkuLiyjMzfixrVs9m1cpZPPJwtwyvP/nEAyQfSaB06ZIRSphZ0yYNWLd2DhvXz+OZp7tHOk4mW75fyIrlM1m6JJ6FC6ZFOk5Q4WjDuLjyzIgfy+rVs1kZZF8C6NKlLcuXzWD5shnM+W4SV1xxySmvt0CBAowY8TEb1s9j/rwpVK4cB0C1apcyd85kVq6cxfJlM+jQodUprys9v++HAFFRUSxZ/DWTJgyJdJSgwtWG3bvfzdKl8SxbNoOHH74ny/fVqHEFv//+A23b3nTK6yxQoADDhn3A2rXfMWfORCpVCuyHV1xxCbNnT2DZshksXvwV7du3OOV1pReuNvz4k7fYvn0pS5Z8HfT1Cy44j1nffsH+A5t47LH7cmSdBQoUYMjQD1i9Zjazv/urDStWrMC8+VNYsHAaS5bG0+3e23JkfZKzTstOUnJyMk8/04vLr2hA3XotefDBu7j44vOBwIde4xvq8+OPuyKc8i9RUVH07fMqLVp25fJqDenUqU1aXj9pfGMHatZqQp1rTv2Pb04LVxsmJyfzzDO9uOKKBtSr15K/p9uXjtq+bSeNbmjPVTVu5NXX/s3HH72Z7eVXrhzHzBljM02/5+4uHDxwiIsvqUefvv157bUeAPzxx5/cfc9jVK/eiJtbdKX3Oy9RvHixU9tIT17ZDx995F42btwc6RhBhasNL7nkAu6+uwvXXdeK2rWb0bz5DZx3XpWg63/lleeYMWPOCS2/UqU4vv56VKbpd93ViQMHDnHZZdfz/vsDefXVZ4HAftit2xPUqHEjrVvfwVtv9cwT++HwYeNo0+bOLF8/cOAg//jHS/Tp0/+El12pUhzTv8rchnfe1ZGDBw9xxeUN+OD9gbz8SqAN9+zZS6OG7bimzk00uL4NTz31IGXLnXPC6z1Vqbhce+RFp2Unac+evaxYuRaA338/zMaNm6lQviwAvd95iWf/71Wcjwar1a51JVu3bmfbth0kJSUxZswkWrVsGulYeUq42jDYvlTe25eOWrBwKQcPHgJg0aLlVKhQLu21W2+9hf/Mn8rSJfF89OGbREVl71euZcsmDBsW6DyNH/8ljRrWA2Dz5h/YsmUbAImJP7Fv3y+cfXbpU9tIT17YDytUKMdNzW9g0KCRkY4SVLja8KKLqrJ48Qr+/PO/pKSkMHfuIlq3zrzchx66i4kTp7Nv388Zpnfu3Ja5cyexcOE03n//tWzvhy1a3MiIEeMB+OKLaTRoUBeALVu2sXXrdgASE/eyb9/PeWI/nD9/Mfv3H8ry9X37fmH5stUkJSVneq1z5zZ8N2ciCxZOo++JtOHNTRgxPNCGEyZMo0GDawFISkriyJEjABQsWICoKDvRzZFcEJZOkpkVMLM7zKyx9/OtZvaBmXU3s9hwrDMrlSvHUb3aZSxavIIWLW4kISGR1avX52aE4ypfoSw7d+1O+3lXQmKmD+JIc84xfdpIFi2czr3d/FcWzo02PLovLV68Isv33H13Z77++lsg8MHWoUMr6l/fhpq1mpCSksKtt96SrXWl356UlBQOHfo10+HhWjWrE1sgNu3D6lTlhf3w3d69ePa5V0hN9efVXcLVhuvWfU+9erUpVaoEhQsXolmzhsTFlc+47vJlaNWqKf37D88w/cILq9K+fQsaNmxHnTo3kZKSSufObbK3PeXLsivdfvjrr79l2g9r1qxGgQIFTuv98MILz6Nd+xbc0Kg919S5iZSUlBNowzLsSgjehhUqlGPRouls+n4B7777CXsS94ZtG7LicvG/4zGzQWa218zWpptWysxmmNlm79+S6V57zsy2mNkmM2uabnoNM1vjvdbXzMybXtDMRnvTF5lZleNlCtfA7c+8ZZ9hZncCZwJfADcAtYGg9U4zux+4H8CiixMVVeSUQhQpcgZjRvfnyX/0JDk5mf979lGa3XTrKS0zHLz/fxn4qdIFUL9BGxITf+Lss0vz1fRRbNq0hbnzFkU6Vppwt+HRfempf/Tkt99+D/qe66+/lrvv7kKDBm0BaNSwHlddeXnaGK5ChQux1/uGP3bsAM6tUonYArFUqliBpUviAXj//QEMGTomi+3563nZsufw2eC+dLvn8RzbTr/vhzff1Ji9e39m+Yo1XF//mkjHCSpcbbhp0xZ69/6EqVNHcPjwYVavXk9ycsZqx9tv9+T559/I1IFs2LAuV111OfPmTQagcOFCaZWm0aM/pXLlihQoUICKFcuzcGFgX/3ww88YNmzscbenbNlzGDjwPe6776nTej9s0LAuV155OXO9NixUqCD79v0CwMhRn1KlSkViY2OpWLE8C7w2/MhrQ0JsT0JCIldf3Zyy5c5h9Oh+TJwwPZe2yLcGAx8AQ9NNexb4xjn3hpk96/38TzO7BOgMXAqUB2aa2QXOuRTgYwJ9iYXANKAZMB3oBhxwzlU1s87Am0CnUIHC1Um63Dl3hZnFAAlAeedcipkNB1ZlNZNzrh/QDyCmQIVT+q2IiYlh7Oj+jBw5gYkTp3PZZRdRpUolli+dAUBcXDmWLPqaa+rezE8/7TuVVZ2yhF2JVEz3rTCuQjkSE3+KYKLMjubZt+8XJk2aTq1a1X3VSQpnG8bExDAm3b4UzOWXX8ynn7xNy1a3s3//ASDwx37Y8LE8//wbmd7focO9QKA6NXDAezS+sUPQ7UlISCQ6OprixYulLbdo0TOZPGkoPXu+xaLFy3NkG9Ov8yi/7YfXXluTli2a0LxZIwoVKkixYkUZMrgvd971aKSjpQlnGw4ZMpohQ0YD0KvX0yQk7Mnw+lVXXcHQoe8DULp0KZo2bUhycjJmxvDh43jxxbcyLbNTpweAwHia/v3foWnTzhm3JyGRuLjyJCTsITo6mmLFirJ//0EgsB9+8cVn9Or1Tsjq6ony435oGCOGj6dnz8xt2KXzX234ab93aN4sYxvuTthDXIXy7A7ShkftSdzLhg2bufbaWuHbiCz4qSbrnJsTpLrTGmjgPR8CzAb+6U0f5Zz7H7DNzLYAtc1sO1DMObcAwMyGAm0IdJJaAy95yxoHfGBm5kL0wsM1JinKzAoARYEzgOLe9IJArhxu69+vNxs2buHfffoBsHbtRsrHVaPqBXWoekEddu1KpNbVTSPeQQJYsnQlVauem/ZtpGPH1kyZGh/pWGnOOKMwZ55ZJO35jY2vZ926TRFOlVE427B/v95sTLcvHatixfKMGd2fu+9+jM2bf0ibPuvbedzStkXaWI2SJUtQqVKFbK1z6tR4br890HFq1+5mvp09H4DY2FjGjR3I8OHjGD9+6qlsViZ+3w97PP8GVf5Wk6oX1OG2rg/x7bfzfdVBgvC24dH9qGLF8rRu3YwxYyZleP3ii+tx0UWBx4QJ03j88ReYMiWeb7+dT9u2N6XbD4tnez/88suZ3HZbOwBuueUmvvvuP0BgPxw9uh+ffz6eL77I2bNd/bgfzp49nzZtm2dow4oVs9mG02ZwW9dAG7Zt+1cblq9QlkKFCgJQokQx6tSpkeHvx+nIzO43s6XpHvdnY7YyzrlEAO/fo6PbKwA7071vlzetgvf82OkZ5nHOJQOHgJCD6cJVSRoIbASigR7AWDP7AagDZB7+n8PqXluL27u2Z/Wa9WmHMV544Q2mfzUr3Ks+KSkpKTz2+PNM+/JzoqOiGDxkNOvXfx/pWGnKlDmbcWMHAhATE82oURP5On52ZEMdI1xtWPfaWnTt2p416fal5194g0reH8h+/YfxfI8nKF26JO+//xoQOCOuzjU3sWHDZnq+9BbTp40kKspISkrm0Ud7sGNHwnHXO+izUQwe3JcN6+dx4MBBbuv6EAAdOrTkuuuupnTpktxxR0cA7rn3CVatWnfK2+r3/TAvCGcbjhz5CaVKlSQpKYnHH3+Rgwd/5V7vtPEBA0ZkOd/GjZvp1esdpkwZRlRUFElJyTzxxAvZ2g8HDx7NoEHvsXbtdxw4cJDbb38YgHbtWqSNkeratT2QN/bDwYP7cl39OpQuXZLvNy/glVfeIzY28L194IARlClzNnPnTaZo0TNJTXV0f/gealx1Ixs3buFfvXozecowosxISk7micdfZOfO47fhkMFjGDDwXVavmc2BAwe5845HALjowqq8/noPnAsckevTp39Evnzm5lln6Y8W5YBgI91diOmh5sl6JeE61mtm5QGcc7vNrATQGNjhnFucnflP9XCbSE7IC+eb6Bfl9Bcb7f/r/ialZD4jzG8KxuTqeUMn5fAf23P1z06Hyq1z7U/I2B8nHXfbvMNtU51zl3k/bwIaOOcSzawcMNs5d6GZPQfgnHvde9/XBA6lbQe+dc5d5E3v4s3/wNH3OOcWeMOB9gBnR+JwG8653c653d7zg865cdntIImIiEj4+enstixM5q+Tve4EJqWb3tk7Y+1c4HxgsXdI7jczq+Od1XbHMfMcXVZ7YFaoDhLotiQiIiLiA2Y2ksAg7bPMbBfQE3gDGGNm3YAdQAcA59w6MxsDrAeSge7emW0ADxI4U64wgQHbR8+4GQgM8wZ57ydwdlzoTJE+tTIrOtwmfqDDbeIHOtyWM3S4LbP2lVvl2p+QcT9Ozgv6B+GiAAAgAElEQVR/UjPw/2+eiIiIhIWfLgHgR6flbUlERERETpUqSSIiIvmUX4fc+IUqSSIiIiJBqJIkIiKST+XmxSTzIlWSRERERIJQJUlERCSf0tltoamSJCIiIhKEKkkiIiL51CncLiRfUCVJREREJAhVkkRERPIpnd0WmipJIiIiIkGokiQiIpJP6YrboamSJCIiIhKEKkkiIiL5lK6TFJoqSSIiIiJBqJIkEoKO1osfJKUkRzrCaeF/yUmRjuA7uk5SaKokiYiIiAShTpKIiIhIEDrcJiIikk/pYpKhqZIkIiIiEoQqSSIiIvmULiYZmipJIiIiIkGokiQiIpJPaUxSaKokiYiIiAShSpKIiEg+pYtJhqZKkoiIiEgQqiSJiIjkU6k6uy0kVZJEREREglAlSUREJJ9SHSk0VZJEREREglAlSUREJJ/SdZJCUyVJREREJAhVkkRERPIpVZJCUyVJREREJAh1kkRERESC0OE2ERGRfMrpYpIhqZIkIiIiEkS+6CQ1bdKAdWvnsHH9PJ55unuk4wTl94x+zwf+z+j3fOD/jH7PB3kjY1RUFEsWf82kCUMiHSUov7ZhsHbr/tDdrFs7h1UrZ/HG6z0imO7kpOJy7ZEXnfadpKioKPr2eZUWLbtyebWGdOrUhosvPj/SsTLwe0a/5wP/Z/R7PvB/Rr/ng7yREeDRR+5l48bNkY4RlJ/b8Nh2a3D9tbRq2ZQrr2pMteqN6P3uJxFMJ+EQtk6SmZ1nZv8wsz5m1tvM/m5mxcO1vqzUrnUlW7duZ9u2HSQlJTFmzCRatWya2zFC8ntGv+cD/2f0ez7wf0a/54O8kbFChXLc1PwGBg0aGekoQfm1DYO12wMP3MFbb3/IkSNHANi375dIxTtpLhf/y4vC0kkys0eBT4BCQC2gMFARWGBmDcKxzqyUr1CWnbt2p/28KyGR8uXL5maE4/J7Rr/nA/9n9Hs+8H9Gv+eDvJHx3d69ePa5V0hNTY10lKD82obB2u388/9GvXq1+c+8KcyaOY6aNapFMKGEQ7gqSfcBzZxzrwCNgUuccz2AZsB7Wc1kZveb2VIzW5qaejhHgphZpml+G83v94x+zwf+z+j3fOD/jH7PB/7PePNNjdm792eWr1gT6ShZ8mMbZtVuMTHRlChRnGvrteSfz77CyM/z3uE251yuPfKicF4CIAZIAQoCRQGcczvMLDarGZxz/YB+ADEFKuRIiybsSqRiXPm0n+MqlCMx8aecWHSO8XtGv+cD/2f0ez7wf0a/5wP/Z7z22pq0bNGE5s0aUahQQYoVK8qQwX25865HIx0tjR/bMKt2S9iVyMSJ0wFYsnQlqampnHVWKX7+eX9E80rOCVclaQCwxMz6AQuADwDM7GwgV/eeJUtXUrXquVSpUpHY2Fg6dmzNlKnxuRnhuPye0e/5wP8Z/Z4P/J/R7/nA/xl7PP8GVf5Wk6oX1OG2rg/x7bfzfdVBAn+2YVbtNmny1zRsWBcIHHorUKBAnusg6ey20MJSSXLO9TGzmcDFwLvOuY3e9H1A/XCsMyspKSk89vjzTPvyc6Kjohg8ZDTr13+fmxGOy+8Z/Z4P/J/R7/nA/xn9ng/yRka/y0tt+NngUQzo35uVK77hyJEk7un2eKQjSQ4zvx4nzKnDbSIiInlF8pGEzIOywujKsnVz7bN2xZ75ubptOeG0v06SiIiIyMnQvdtERETyqbw6Vii3qJIkIiIiEoQqSSIiIvlUXr0Sdm5RJUlEREQkCHWSREREJOLMbLuZrTGzlWa21JtWysxmmNlm79+S6d7/nJltMbNNZtY03fQa3nK2mFlfC3YZ92xSJ0lERCSfSnUu1x7Z1NA5V905V9P7+VngG+fc+cA33s+Y2SVAZ+BSArc8+8jMor15PgbuB873Hs1Otn3USRIRERG/ag0M8Z4PAdqkmz7KOfc/59w2YAtQ28zKAcWccwtc4EKQQ9PNc8LUSRIREcmnXC7+l/4m9t7j/kxxIN7MlqV7rYxzLhHA+/ccb3oFYGe6eXd50yp4z4+dflJ0dpuIiIiEXfqb2GehrnNut5mdA8wws40h3htsnJELMf2kqJMkIiKST53AWKGwc87t9v7da2YTgNrAT2ZWzjmX6B1K2+u9fRdQMd3sccBub3pckOknRYfbREREJKLMrIiZFT36HGgCrAUmA3d6b7sTmOQ9nwx0NrOCZnYugQHai71Dcr+ZWR3vrLY70s1zwlRJEhERyad8dDHJMsAE72z9GOBz59xXZrYEGGNm3YAdQAcA59w6MxsDrAeSge7OuRRvWQ8Cg4HCwHTvcVLM+ajUll5MgQr+DCYiIhImyUcSTvqaPifjonNq5dpn7ca9S3J123KCKkkiIiL5lJ/GJPmRxiSJiIiIBKFKkoiISD7lozFJvqRKkoiIiEgQqiSJiIjkUxqTFJo6Sacxv59GkBd+NWOioo//pghLTk05/pskT4uN9v+f6qSU5EhHOK4/d8+NdATJY/z/myciIiJhoTFJoWlMkoiIiEgQ6iSJiIiIBKHDbSIiIvmUc6mRjuBrqiSJiIiIBKFKkoiISD6VqoHbIamSJCIiIhKEKkkiIiL5lNPFJENSJUlEREQkCFWSRERE8imNSQpNlSQRERGRIFRJEhERyac0Jik0VZJEREREglAlSUREJJ9KVSUpJFWSRERERIJQJUlERCSfcjq7LSRVkkRERESCUCVJREQkn9LZbaGpkiQiIiIShDpJIiIiIkGctp2kxx69j1UrZ7FyxTcMH/YhBQsWpFq1S5k/dwpLl8SzcME0atWsHumYaZo2acC6tXPYuH4ezzzdPUeWGRdXnhnxY1m9ejYrV87ikYe7ZXpP/frX8PO+DSxdEs/SJfH06PH4Ka+3QIECjBjxMRvWz2P+vClUrhwHQLVqlzJ3zmRWrpzF8mUz6NCh1SmvK71wtCHAI490Y/nymSxbNoOhQ9+nYMGCQd9Xo8YVHD68jbZtbzrldRYoUIBhwz5k3bo5zJkzKa0Nr7jiEmbPnsDy5TNZsuRr2rdvecrrOqpgwYIsmD+VZUtnsGrlLHq++FSOLftkxcWVZ2b8WNasns2qdPvwFVdcwrw5k1mxfCYTJwymaNEzI5z0L+HaD4/1ySdv8+OPy1i6ND5Hlnfbbe1Ys2Y2a9bM5rbb2qVN//jjt1i0aDqLF3/F559/TJEiZ+TI+kLp3683u3etYuWKb3J82SkpKbS/qzsPPd0z02uLl6+mTpN2tLuzO+3u7M7Hg0ac8vqOHDnCUy+8TvOO99DlvsdJSPwpw+u/Hz5Mo9ZdebX3R6e8rpORisu1R150WnaSypcvy8Pd7+HqOjdR/cobiI6OplPH1rzxWg9efuVdatZqQq9e7/DG6z0iHRWAqKgo+vZ5lRYtu3J5tYZ06tSGiy8+/5SXm5yczDPP9OKKKxpQr15L/v7gXUGXO2/eYmrWakLNWk149dV/Z3v5lSvHMXPG2EzT77m7CwcPHOLiS+rRp29/Xnst0M5//PEnd9/zGNWrN+LmFl15952XKF682MlvYDrhasPy5cvQvfvdXHvtzdSocSNRUdF07Ji5YxIVFcWrrz7HjBnfndDyK1eOIz5+dKbpd93ViYMHD3HppfV5//0BvPLKc0CgDbt1e4KrrmpMq1Z38PbbPXOsDf/3v//RuElHatS8kRo1m9C0SQOurn1Vjiz7ZCUnJ/P0M724/IoG1K3Xkge9ffjTT97m/3q8xpVXNWbixOn846kHI5rzqHDth8EMGzaW1q3vPOH5vv56FJUqxWWYVrJkcXr0eJz69Vtz3XWt6NHjcUqUCOxXzzzzL66+ujm1azdj587dPPjgia/zRA0dOoabW9wWlmUPHzuJv1WplOXrV1W7jPFDPmT8kA958J7sZ0hI/Im7Hn4m0/QvpsZTrOiZTB8ziNs7teHdjwZleP39/sOoeeXl2d8AyVWnZScJICYmhsKFCxEdHc0ZhQuTmLgH5xxFixUFoFjxouw+pkcfKbVrXcnWrdvZtm0HSUlJjBkziVYtm57ycvfs2cuKlWsB+P33w2zcuJny5ctme/5bb72F/8yfytIl8Xz04ZtERWVvd2nZsgnDhgU6T+PHf0mjhvUA2Lz5B7Zs2QZAYuJP7N33C2efXfpENilL4WpDOGZfOqMwiUH2m4ceupsJE6azb98vGaZ36dKWuXMns2jRdD744PUTasPhw8cB8MUX02jYsC4AW7ZsY+vW7UCgDfft+znH2hDg8OE/AIiNjSEmNjbigzqD7cMVypflwgvOY87chQDM/GZujlTvckI498NjzZ+/mP37D2aYdu65lZg0aQjz509l5syxXHDBedla1o03Xs8338zlwIFDHDz4K998M5cmTRoA8Ntvv6e9r1ChgrmyT8ydt4j9Bw4e/40naM/efcz5z2LancT/kylfz6LzvY/R7s7u9HqrLykpKdmab9bcBbS+qTEATRpcx6JlK9PacN3Gzfyy/wDX1orclxHnXK498qLTspO0e/ce3n3vE7ZtXcyuHSs49OuvzJg5hyf/0ZM3X3+ebVuX8NYbL9Dj+dcjHRWA8hXKsnPX7rSfdyUknlBnJjsqV46jerXLWLx4RabX6tSpwbKlM5gyeRiXXHIBABddVJUOHVpR//o21KzVhJSUFG699ZZsrSv99qSkpHDo0K+ULl0yw3tq1axOgQKxaR/4pypcbbh790+8914/Nm9eyPbtS/n111+ZOXNuxnWXL0Pr1k3p3394hukXXliV9u1b0rDhLVx9dXNSUlLo0qVt9ranfFl2pWvDX3/9LVMb1qxZLUfbEAKVkKVL4klMWM0338xh8ZLM+0ukHN2HFy1ewbp1m2jZsgkA7du1oGJc+QinC8iN3+VQPvzwDZ58sid167bguedepU+fV7I1X2B/S0z7OSFhT4bcn376Ntu3L+XCC6vy0UeDczp2rnmzz6c8+VA3zLL+6Fu1dgO33PkQf3/qBbb88CMAW7fv4KtvvmPYJ70ZP+RDoqKimBr/bbbWuXffL5Q95ywAYmKiObPIGRw89Cupqam8/UF/nup+76lvmISNry4BYGb3A/cDWHRxoqKKnNRySpQoTquWTal6QR0OHvyV0aM+5dZbb6FWzeo89fRLTJgwjfbtW9L/0940bd45JzfhpJhZpmk52esuUuQMxozuz1P/6JnhWyHAihVrOK9qbQ4f/oNmzRoxbuwgLrm0Ho0a1uOqKy9n4YJpABQqXIi9+34GYOzYAZxbpRKxBWKpVLECS5cExkS8//4Ahgwdk8X2/PW8bNlz+GxwX+655/Ec285wtWGJEsVp2fJGLrqoLgcP/srnn39Mly5tGTlyQtp73n77JXr0eJ3U1NQM8zZsWJcrr7yc+fOnAFC4cKG0StPo0f2oUqUiBQoUoGLF8ixaNB2ADz8cxNChY4+7PWXLnsOgQf/m3nufzNF9JTU1lZq1mlC8eDHGjx3IpZdeyLp1m3Js+Sfr6D78pLcP33v/k/z73Zd5vscTTJ0az5EjSZGOCIT/dzmUIkXOoE6dGowY8dfYlqPj526/vQPdu98NwHnnVWHixMEcOXKEH3/cSadODxw39wMPPE1UVBTvvvsv2rdvmVYpzkvOKBxNqZIluPSi81m8fHXQ91xy4XnMGD+EM84ozJz/LObR5/7FtNEDWbR0Jes3bqFzt8eAwKHpUiVLAPDoc/8iYfdPJCUnkfjTPtrdGRiH1rVja9re3CTo/38zY9QXU6l/TS3KlTk7TFucPbotSWhh6SSZWXHgOaANcHQP2AtMAt5wzgWtozrn+gH9AGIKVDjp/3M33HAd27bv4Oef9wMwYeJ0rqlTk1u7tOWJJ18EYNy4KfT75O2TXUWOStiVmOGbcFyFckEP6ZyMmJgYxozuz8iRE5g4cXqm19N3mr76ahbv932N0qVLYmYMGz6W559/I9M8HToEvvlUrhzHwAHv0fjGDkG3JyEhkejoaIoXL8b+/QcAKFr0TCZPGkrPnm+xaPHyHNnG9Os8KqfasFGjemzfvjNtX5o06Svq1KmRoZNUo8blDBv2AQClS5eiadOGJCcnY2aMGDGOF154M9NyO3W6Hwi0Yf/+vWnSpFPG7UlIJC6uPAkJe4iOjqZYsaJph1aKFj2TCRM+46WX3glaGcwJhw79yndz/hMYhBzhTlJMTAxjj9mHN23aSvObbwXg/PP/xk3Nb4hkxDTh/F0+nqioKA4e/JU6dTIfehw2bGxax+brr0dx333/YMeOXWmvJyQkct11ddJ+rlChLHO9w5lHpaamMm7cFJ544oE82UkqVCia2fMWMnfBEv53JInDh//gn73e4s2ef40jOrPIX1/M619bm1d6f8iBg4dwztGqeWOeePDuTMvt+3rgMyUh8Sd6vNqbwR+8leH1MuecxZ69P1P2nLNJTk7h98N/ULxYUVat3cCy1esY9cVU/vjzvyQlJXHGGYV45oXsVf8kd4TrcNsY4ADQwDlX2jlXGmjoTQv7b9fOHQlcffVVFC5cCIBGDeuxceNmdif+xPX1r0mbttkbHxNpS5aupGrVc6lSpSKxsbF07NiaKVNz5oyV/v16s3HjFv7dp1/Q18uk+xZTq2Z1oqKi+OWXA8z6dh63tG2RNt6lZMkSVKpUIVvrnDo1nttvD3Sc2rW7mW9nzwcgNjaWcWMHMnz4OMaPn3oqm5VJuNpw584Eatf+a19q2LAuGzduyfCeiy6qx4UX1uXCC+syYcI0HnvseaZMiefbb+fTtu1N6dqw+Am04Qy6dm0PwC233MTs2f8BAm04Zkx/Roz4gi+++PKUty+9s84qlTYIvFChQtzQ6Do2bdqao+s4Gf379WbDMfvw0TY1M/7vucf4tN+wSMXLIJy/y8fz22+/8+OPO7nllr86SZdffnG25p0x4zsaN65PiRLFKFGiGI0b1087CeFvf6uc9r6bb27M999Hfp84GfsPHOGbicOJHz+Et3s9S+0a1TJ0kAB+/mV/WuVnzfpNpDpHieLFqFOzOjNmz+MXb5zUoV9/Y/ee7HV+G9arw6RpMwGInz2Xq2tUw8x486V/MvOLocSPH8I/ut9Lq2aNeeLBe3Jwi7NHY5JCC9fhtirOuQxfn51ze4A3zSzse8HiJSv44osvWbL4a5KTk1m5ch39B4xg5cq1vPvuv4iJieF///0vDz6Y+UyESEhJSeGxx59n2pefEx0VxeAho1m//vtTXm7da2vRtWt71qxZn3ZI7PkX3qBSxcAHdb/+w2h3y83c/8AdpCSn8Oef/6Vr14cA2LBhMz1feovp00YSFWUkJSXz6KM92LEj4bjrHfTZKAYP7suG9fM4cOAgt3nL7NChJddddzWlS5fkjjs64oBu9z7BqlXrTnlbw9WGS5asZMKEaSxcOI3k5BRWrVrHwIGfc++9XQEYMGB4lvNu3LiZl156h6lThxMVFUVSUjKPP/58ttpw8ODRDBr0b9atm8P+/Qe5446HAWjfvgX16tWmVKkS3H57oBN1Tw61YblyZRg08N9ER0cRFRXFuHFT+NL74x4pda+txe1d27M63T78wgtvULXquTz44F0ATJw4jcFDMp8hGAnh2g+DGTKkL9dddw1nnVWSLVsW8vLL73HXXY/Rt+8r/POfjxAbG8vYsZNZs2bDcZd14MAhXn+9L/PmBQ4Nv/ZaHw4cOISZMWDAuxQteiZmxpo1G3j00fCfFTx82IdcX/8azjqrFNt/WEqvf73DZ4NHhWVdoycEvmx0ansz8d/OY/SEL4mOiaZQgQK83etZzIzzzq3MI/fdwf2P9yDVpRIbE0OPJx+ifNkyx13+LS2a8tzLb9O84z0UL1aUt3s9G5btkPCwcPTuzCwemAkMcc795E0rA9wF3Oica3y8ZZzK4TYJyDzKwF/ywv/gmKjoSEc4ruTU7J1lI3lXbLSvho8GlZSSHOkIx/Xn7rnHf1OExZ71t1z90138zPNy7U/xod+3+v1jKZNwHW7rBJQGvjOz/Wa2H5gNlAI6hJpRRERExA/C8vXEOXcA+Kf3yMDM7gY+C8d6RUREJPvy6lih3BKJ6yT1isA6RURERE5IuC4BEPwiFIFhMscf6SYiIiJhp+skhRau0YBlgKYETvlPz4D/hGmdIiIiIjkmXJ2kqcCZzrmVx75gZrPDtE4RERE5AS5PnGccOeEauN0txGu3hmOdIiIiIjnptLzBrYiIiMip8v8VykRERCQsNHA7NFWSRERERIJQJUlERCSf0sUkQ1MlSURERCQIVZJERETyKV0CIDRVkkRERESCUCVJREQkn9KYpNBUSRIREREJQpUkERGRfEqVpNBUSRIREZGIM7NmZrbJzLaY2bORzgPqJImIiORbLhcfoZhZNPAh0By4BOhiZpfk0GaeNHWSREREJNJqA1uccz84544Ao4DWEc7k3zFJyUcSLCeXZ2b3O+f65eQyc5oynjq/5wP/Z/R7PlDGnOD3fOD/jH7Plx05/VkbipndD9yfblK/dO1XAdiZ7rVdwNW5lS0r+amSdP/x3xJxynjq/J4P/J/R7/lAGXOC3/OB/zP6PZ+vOOf6Oedqpnuk72AG66xFfFR5fuokiYiIiD/tAiqm+zkO2B2hLGnUSRIREZFIWwKcb2bnmlkBoDMwOcKZ/DsmKQzywnFjZTx1fs8H/s/o93ygjDnB7/nA/xn9ni/PcM4lm9nDwNdANDDIObcuwrEwXUhKREREJDMdbhMREREJQp0kERERkSDyRSfJj5c6T8/MBpnZXjNbG+kswZhZRTP71sw2mNk6M3ss0pmOZWaFzGyxma3yMvaKdKZgzCzazFaY2dRIZwnGzLab2RozW2lmSyOdJxgzK2Fm48xso7dPXhPpTEeZ2YVe2x19/Gpmj0c617HM7Anv92StmY00s0KRzpSemT3mZVvnl/YL9nfazEqZ2Qwz2+z9WzKSGSXnnfadJL9e6vwYg4FmkQ4RQjLwlHPuYqAO0N2Hbfg/oJFzrhpQHWhmZnUinCmYx4ANkQ5xHA2dc9WdczUjHSQLfYCvnHMXAdXwUXs65zZ5bVcdqAH8AUyIcKwMzKwC8ChQ0zl3GYFBsp0jm+ovZnYZcB+BKzBXA1qY2fmRTQUE/zv9LPCNc+584BvvZzmNnPadJHx6qfP0nHNzgP2RzpEV51yic2659/w3Ah9KFSKbKiMX8Lv3Y6z38NVZCWYWB9wMDIh0lrzKzIoB9YGBAM65I865g5FNlaUbgK3OuR8jHSSIGKCwmcUAZ+CD69GkczGw0Dn3h3MuGfgOaBvhTFn9nW4NDPGeDwHa5GooCbv80EkKdqlzX33A5yVmVgW4ElgU2SSZeYeyVgJ7gRnOOb9l/DfwDJAa6SAhOCDezJZ5txDwm78B+4DPvMOWA8ysSKRDZaEzMDLSIY7lnEsA3gF2AInAIedcfGRTZbAWqG9mpc3sDOAmMl5k0E/KOOcSIfBlEjgnwnkkh+WHTpIvL3WeF5nZmcB44HHn3K+RznMs51yKd5gjDqjtle19wcxaAHudc8sineU46jrnriJweLq7mdWPdKBjxABXAR87564EDuPDQxzexfBaAWMjneVY3riZ1sC5QHmgiJl1jWyqvzjnNgBvAjOAr4BVBA75i+S6/NBJ8uWlzvMaM4sl0EEa4Zz7ItJ5QvEOv8zGX+O86gKtzGw7gUO+jcxseGQjZeac2+39u5fAWJrakU2UyS5gV7oq4TgCnSa/aQ4sd879FOkgQTQGtjnn9jnnkoAvgGsjnCkD59xA59xVzrn6BA5xbY50piz8ZGblALx/90Y4j+Sw/NBJ8uWlzvMSMzMCY0A2OOfejXSeYMzsbDMr4T0vTOCDYGNkU/3FOfeccy7OOVeFwD44yznnm2/vAGZWxMyKHn0ONCFw6MM3nHN7gJ1mdqE36QZgfQQjZaULPjzU5tkB1DGzM7zf7Rvw0eB3ADM7x/u3EnAL/m3LycCd3vM7gUkRzCJhcNrflsSvlzpPz8xGAg2As8xsF9DTOTcwsqkyqAvcDqzxxvwA/J9zbloEMx2rHDDEO5sxChjjnPPlafY+VgaYEPjcJAb43Dn3VWQjBfUIMML70vMDcHeE82TgjaO5EXgg0lmCcc4tMrNxwHICh7FW4L/ba4w3s9JAEtDdOXcg0oGC/Z0G3gDGmFk3Ap3PDpFLKOGg25KIiIiIBJEfDreJiIiInDB1kkRERESCUCdJREREJAh1kkRERESCUCdJREREJAh1kkRymZmleHeIX2tmY71Txk92WYPNrL33fECoGw+bWQMzO+GLBprZdjM7K8h6HzhmWhszy/KyEOmziojkBeokieS+P707xV8GHAH+nv5F71pPJ8w5d69zLtSFFRuQc1dWHknmO8f78l5lIiInS50kkciaC1T1qjzfmtnnBC7aGW1mb5vZEjNbfbRqYwEfmNl6M/uSdDfUNLPZZlbTe97MzJab2Soz+8a7MfHfgSe8KtZ13lXKx3vrWGJmdb15S5tZvHcD2U8Jfv/DmcBF6W7JcAaBq5xPNLMXveWtNbN+3lWdM0hfnTKzmmY223texMwGefOvMLPW3vRLzWyxl321mZ2fA20vIhKSOkkiEWJmMQTu8bXGm1Qb6OGcuwToRuDu7LWAWsB9ZnYu0Ba4ELgcuI8glSEzOxvoD7RzzlUDOjjntgOfAO95Vay5QB/v51pAO2CAt4iewDzvBrKTgUrHrsM5l0Lgnl8dvUmtgG+dc78BHzjnanmVssJAixNolh4EbtlSC2gIvO3dIuXvQB/vBsY1CdzDTUQkrE7725KI+FDhdLd3mUvgvnjXAoudc9u86U2AK9KN4SkOnA/UB0Z6nZTdZjYryPLrAHOOLss5tz+LHI2BS9IVeop5926rT+B+WTjnvjSzrG4JMRJ4m0BnqzMw1Jve0MyeAc4ASgHrgClZLONYTQjcCPgf3s+FCHTSFgA9zCwO+MI559cbnuV/ffoAAAGnSURBVIrIaUSdJJHc96dXEUnjdVQOp58EPOKc+/qY990EHO9eQpaN90CgknyNc+7PIFmyM/98oJyZVSPQyetsZoWAj4CazrmdZvYSgY7OsZL5q5Kd/nUjUAHbdMz7N5jZIuBm4Gszu9c5F6yDKCKSY3S4TcSfvgYeNLNYADO7wDvsNIdAZyTaGw/UMMi8C4DrvcNzmFkpb/pvQNF074sHHj76g5kd7bjNAW7zpjUHSgYL6AI3fhwDDAGmOef+y18dnp/N7Ewgq7PZtgM1vOftjtnuR46OYzKzK71//wb84JzrS+AQ4BVZLFdEJMeokyTiTwOA9cByM1sLfEqg8jsB2ExgHNPHwHfHzuic2wfcD3xhZquA0d5LU4C2RwduA48CNb2B0Ov56yy7XkB9M1tO4PDXjhA5RwLVgFHeug8SGA+1BpgILMlivl5AHzObC6Skm/4yEAus9rb7ZW96J+D/27NjI4BBIAhi0A3910JBBHjGDjZ1JlWx/7efmXKNd9oD+M28xyAAAF8+SQAAQSQBAASRBAAQRBIAQBBJAABBJAEABJEEABAOnYKZiWRaJOoAAAAASUVORK5CYII=",
            "text/plain": [
              "<Figure size 720x720 with 2 Axes>"
            ]
          },
          "metadata": {
            "needs_background": "light"
          },
          "output_type": "display_data"
        }
      ],
      "source": [
        "confusion_mat(lstm_model, test_dataset, tag_to_ix)"
      ]
    }
  ],
  "metadata": {
    "accelerator": "GPU",
    "colab": {
      "provenance": []
    },
    "gpuClass": "standard",
    "kernelspec": {
      "display_name": "Python 3.8.3 ('base')",
      "language": "python",
      "name": "python3"
    },
    "language_info": {
      "codemirror_mode": {
        "name": "ipython",
        "version": 3
      },
      "file_extension": ".py",
      "mimetype": "text/x-python",
      "name": "python",
      "nbconvert_exporter": "python",
      "pygments_lexer": "ipython3",
      "version": "3.8.3"
    },
    "vscode": {
      "interpreter": {
        "hash": "40d3a090f54c6569ab1632332b64b2c03c39dcf918b08424e98f38b5ae0af88f"
      }
    }
  },
  "nbformat": 4,
  "nbformat_minor": 0
}
